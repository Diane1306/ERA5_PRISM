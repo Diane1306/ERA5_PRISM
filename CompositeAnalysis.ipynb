{
 "cells": [
  {
   "cell_type": "code",
   "execution_count": 9,
   "metadata": {},
   "outputs": [],
   "source": [
    "import numpy as np\n",
    "import pandas as pd\n",
    "import rasterio\n",
    "from scipy import stats\n",
    "import matplotlib.pyplot as plt\n",
    "from matplotlib.ticker import MaxNLocator\n",
    "from matplotlib.colors import BoundaryNorm\n",
    "from cartopy.feature import NaturalEarthFeature\n",
    "import cartopy.crs as ccrs\n",
    "import cartopy"
   ]
  },
  {
   "cell_type": "code",
   "execution_count": 10,
   "metadata": {},
   "outputs": [
    {
     "data": {
      "text/plain": [
       "(357, 722)"
      ]
     },
     "execution_count": 10,
     "metadata": {},
     "output_type": "execute_result"
    }
   ],
   "source": [
    "lat = np.array([49.9166666666664 - i * 0.0416666666667 for i in range(357)])\n",
    "lon = np.array([-105.0416666666507 + i * 0.0416666666667 for i in range(722)])\n",
    "Lon, Lat = np.meshgrid(lon, lat)\n",
    "\n",
    "am = rasterio.open('PRISM_tmin_stable_4kmD2_19810101_bil.bil')\n",
    "a = am.read()[0, :357, 479:1201]\n",
    "mask = np.where(a>-1000, 1, 0)\n",
    "\n",
    "tmin81 = np.load('./prism/mw_tmin/1981_tmin.npz')['tmin']\n",
    "t, y, x = tmin81.shape\n",
    "y, x"
   ]
  },
  {
   "cell_type": "code",
   "execution_count": null,
   "metadata": {},
   "outputs": [],
   "source": [
    "# MonStart = [59, 90, 120]\n",
    "# MonStartLeap = [60, 91, 121]\n",
    "# MonDays = [31, 30, 31]\n",
    "# Tcriteria = [0, -5, -10, -15, -20]\n",
    "# March = np.zeros((38, 5, 31))\n",
    "# April = np.zeros((38, 5, 30))\n",
    "# May = np.zeros((38, 5, 31))\n",
    "# count = [March, April, May]\n",
    "\n",
    "# for yl in range(38):\n",
    "#     tmin = np.load(f'./prism/mw_tmin/{1981+yl}_tmin.npz')['tmin']\n",
    "#     tmin = np.where(tmin>-100, tmin, np.nan)\n",
    "#     if (1981+yl)%4:\n",
    "#         MonS = MonStart\n",
    "#     else:\n",
    "#         MonS = MonStartLeap\n",
    "#     for mi in range(3):\n",
    "#         for ti in range(5):\n",
    "#             count[mi][yl, ti, :] = np.array([np.where(tmin[MonS[mi]+di, :, :]<Tcriteria[ti], 1, 0).sum()/(y*x) for di in range(MonDays[mi])])\n",
    "\n",
    "# np.save('./var/MarchCount', count[0])\n",
    "# np.save('./var/AprilCount', count[1])\n",
    "# np.save('./var/MayCount', count[2])"
   ]
  },
  {
   "cell_type": "code",
   "execution_count": null,
   "metadata": {},
   "outputs": [],
   "source": [
    "# states = ['MI', 'ND', 'SD', 'NE', 'KS', 'OK', 'MN', 'IA', 'MO', 'WI', 'IL', 'IN', 'OH', 'KY', 'WV', 'PA']\n",
    "# mdmask = [np.load(f'./var/{states[ii]}_mask.npy') for ii in range(16)]\n",
    "\n",
    "# MonStart = [59, 90, 120]\n",
    "# MonStartLeap = [60, 91, 121]\n",
    "# MonDays = [31, 30, 31]\n",
    "# Tcriteria = [0, -5, -10, -15, -20]\n",
    "# March = np.zeros((38, 5, 16, 31))\n",
    "# April = np.zeros((38, 5, 16, 30))\n",
    "# May = np.zeros((38, 5, 16, 31))\n",
    "# count = [March, April, May]\n",
    "\n",
    "# for yl in range(38):\n",
    "#     tmin = np.load(f'./prism/mw_tmin/{1981+yl}_tmin.npz')['tmin']\n",
    "#     tmin = np.where(tmin>-100, tmin, np.nan)\n",
    "#     if (1981+yl)%4:\n",
    "#         MonS = MonStart\n",
    "#     else:\n",
    "#         MonS = MonStartLeap\n",
    "#     for mi in range(3):\n",
    "#         for ti in range(5):\n",
    "#             for si in range(16):\n",
    "#                 count[mi][yl, ti, si, :] = np.array([np.where(np.where(mdmask[si], tmin[MonS[mi]+di, :, :], np.nan)<Tcriteria[ti], 1, 0).sum() / mdmask[si].sum() for di in range(MonDays[mi])])\n",
    "\n",
    "# np.save('./var/MarchCountState', count[0])\n",
    "# np.save('./var/AprilCountState', count[1])\n",
    "# np.save('./var/MayCountState', count[2])"
   ]
  },
  {
   "cell_type": "code",
   "execution_count": null,
   "metadata": {},
   "outputs": [],
   "source": [
    "# March = np.load('./var/MarchCount.npy') * (y*x) / mask.sum()\n",
    "# April = np.load('./var/AprilCount.npy') * (y*x) / mask.sum()\n",
    "# May = np.load('./var/MayCount.npy') * (y*x) / mask.sum()"
   ]
  },
  {
   "cell_type": "code",
   "execution_count": null,
   "metadata": {},
   "outputs": [],
   "source": [
    "# fig = plt.figure(figsize=(8, 6))\n",
    "# X = np.arange(1981, 2019)\n",
    "# plt.plot(X, March[:, 0, :].sum(axis=1), 'b-o', lw=1, ms=3)\n",
    "# plt.plot(X, March[:, 1, :].sum(axis=1), 'g-o', lw=1, ms=3)\n",
    "# plt.plot(X, March[:, 2, :].sum(axis=1), 'y-o', lw=1, ms=3)\n",
    "# plt.plot(X, March[:, 3, :].sum(axis=1), 'm-o', lw=1, ms=3)\n",
    "# plt.plot(X, March[:, 4, :].sum(axis=1), 'c-o', lw=1, ms=3)\n",
    "# plt.xticks(np.arange(1981, 2018, 3), [str(X[i]) for i in range(0, 38, 3)])\n",
    "# plt.ylim(0, 25)\n",
    "# plt.legend(['Tmin<0\\u2103', 'Tmin<-5\\u2103', 'Tmin<-10\\u2103', 'Tmin<-15\\u2103', 'Tmin<-20\\u2103'], frameon=False)\n",
    "# plt.title('31 days Sum of Area Percentage in March', fontsize='large', fontweight='bold')\n",
    "# plt.savefig('./plot/Composite/MarchTotal.png', bbox_inches='tight')"
   ]
  },
  {
   "cell_type": "markdown",
   "metadata": {},
   "source": [
    "<font size=4 color=blue>slope of area percentage"
   ]
  },
  {
   "cell_type": "code",
   "execution_count": 18,
   "metadata": {},
   "outputs": [],
   "source": [
    "def color_significance_red(s):\n",
    "    if s[-1] == '*':\n",
    "        color = 'red'\n",
    "    else:\n",
    "        color = 'black'\n",
    "    return 'color: %s' % color"
   ]
  },
  {
   "cell_type": "code",
   "execution_count": 22,
   "metadata": {},
   "outputs": [],
   "source": [
    "states = ['MI', 'ND', 'SD', 'NE', 'KS', 'OK', 'MN', 'IA', 'MO', 'WI', 'IL', 'IN', 'OH', 'KY', 'WV', 'PA']\n",
    "mdmask = [np.load(f'./var/{states[ii]}_mask.npy') for ii in range(16)]\n",
    "Tcriteria = [0, -5, -10, -15, -20]\n",
    "\n",
    "March = np.load('./var/MarchCountState.npy').sum(axis=3)\n",
    "April = np.load('./var/AprilCountState.npy').sum(axis=3)\n",
    "May = np.load('./var/MayCountState.npy').sum(axis=3)\n",
    "data = [March, April, May]\n",
    "slope = np.zeros((3, 5, 16))\n",
    "pvalue = np.zeros((3, 5, 16))\n",
    "X = np.linspace(1, 38, 38)\n",
    "for mi in range(3):\n",
    "    for ti in range(5):\n",
    "        for si in range(16):\n",
    "            r = stats.linregress(X, data[mi][:, ti, si])\n",
    "            slope[mi, ti, si] = r.slope\n",
    "            pvalue[mi, ti, si] = r.pvalue\n",
    "table = [[[] for i in range(5)] for j in range(16)]\n",
    "mi = 1\n",
    "for si in range(16):\n",
    "    for ti in range(5):\n",
    "        if pvalue[mi, ti, si] < .1:\n",
    "            table[si][ti] = f'{(slope[mi, ti, si]):.3f}*'\n",
    "        else:\n",
    "            table[si][ti] = f'{(slope[mi, ti, si]):.3f}'\n",
    "table = pd.DataFrame(table)\n",
    "table = table.rename(index={i:states[i] for i in range(16)}, columns={i:Tcriteria[i] for i in range(5)})\n",
    "table.style.applymap(color_significance_red)"
   ]
  },
  {
   "cell_type": "markdown",
   "metadata": {},
   "source": [
    "<font size=4 color=blue>Freezing days count"
   ]
  },
  {
   "cell_type": "code",
   "execution_count": null,
   "metadata": {},
   "outputs": [],
   "source": [
    "MonStart = [59, 90, 120]\n",
    "MonStartLeap = [60, 91, 121]\n",
    "MonDays = [31, 30, 31]\n",
    "Tcriteria = [0, -5, -10, -15, -20]\n",
    "count = np.zeros((38, 3, y, x))\n",
    "for yl in range(38):\n",
    "    tmin = np.load(f'./prism/mw_tmin/{1981+yl}_tmin.npz')['tmin']\n",
    "    tmin = np.where(tmin>-100, tmin, np.nan)\n",
    "    if (1981+yl)%4:\n",
    "        MonS = MonStart\n",
    "    else:\n",
    "        MonS = MonStartLeap\n",
    "    for mi in range(3):\n",
    "        S = MonS[mi]\n",
    "        E = S + MonDays[mi]\n",
    "        for ti in range(1):\n",
    "            count[yl, mi, :, :] = np.where(tmin[S:E, :, :]<Tcriteria[ti], 1, 0).sum(axis=0)\n",
    "\n",
    "np.save('./var/Min0DaysCount', count)"
   ]
  },
  {
   "cell_type": "code",
   "execution_count": 4,
   "metadata": {},
   "outputs": [],
   "source": [
    "count = np.load('./var/Min0DaysCount.npy')\n",
    "count_mean = count.mean(axis=0)\n",
    "count_mean = np.where(abs(count_mean)<.000001, np.nan, count_mean)\n",
    "count_std = count.std(axis=0)\n",
    "count_std = np.where(abs(count_std)<.000001, np.nan, count_std)\n",
    "count = np.where(count==0, np.nan, count)\n",
    "# slope = np.zeros((3, y, x)) * np.nan\n",
    "# pvalue = np.zeros((3, y, x)) * np.nan\n",
    "# X = np.linspace(1, 38, 38)\n",
    "\n",
    "# for i in range(y):\n",
    "#     for j in range(x):\n",
    "#         if mask[i, j]:\n",
    "#             for mi in range(3):\n",
    "#                 counttemp = count[:, mi, i, j]\n",
    "#                 flag = np.where(np.isnan(counttemp), False, True)\n",
    "#                 if flag.sum()>1:\n",
    "#                     r = stats.linregress(X[flag], counttemp[flag])\n",
    "#                     slope[mi, i, j] = r.slope\n",
    "#                     pvalue[mi, i, j] = r.pvalue\n",
    "# np.save('./var/Min0DaysSlope', slope)\n",
    "# np.save('./var/Min0DaysPvalue', pvalue)\n",
    "slope = np.load('./var/Min0DaysSlope.npy')\n",
    "pvalue = np.load('./var/Min0DaysPvalue.npy')"
   ]
  },
  {
   "cell_type": "code",
   "execution_count": 22,
   "metadata": {},
   "outputs": [
    {
     "name": "stderr",
     "output_type": "stream",
     "text": [
      "<ipython-input-22-7f6c62bd0553>:28: RuntimeWarning: invalid value encountered in less\n",
      "  plt.scatter(Lon, Lat, np.where(np.logical_and(pvalue[mi, :, :]<0.05, mask), 1, np.nan), 'grey', alpha=.1, transform=ccrs.PlateCarree())\n"
     ]
    }
   ],
   "source": [
    "png = ['Min0DaysCount_mean', 'Min0DaysCount_std', 'Min0DaysCount_trend']\n",
    "title = ['38 year mean', 'Standard Deviation', 'Trend']\n",
    "month = ['March', 'April', 'May']\n",
    "data = [count_mean, count_std/count_mean, slope]\n",
    "extent = [-105, -75, 34, 49]\n",
    "ll = [0, 0, -.3]\n",
    "lr = [30, 2, .3]\n",
    "step = [5, .4, .1]\n",
    "color = ['jet_r', 'jet', 'bwr']\n",
    "extend = ['max', 'max', 'both']\n",
    "ch = [.625, .325, .025]\n",
    "fig, axs = plt.subplots(3, 3, figsize=(15, 9))\n",
    "for ii in range(3):\n",
    "    for mi in range(3):\n",
    "        ax = plt.subplot(3,3,ii*3+mi+1, projection=ccrs.AlbersEqualArea(np.mean(extent[:2]), np.mean(extent[2:])))\n",
    "        ax.set_extent(extent)\n",
    "        ax.add_feature(cartopy.feature.STATES.with_scale('10m'), lw=.5)\n",
    "        ax.add_feature(cartopy.feature.BORDERS, lw=.3, linestyle=':')\n",
    "        ax.add_feature(cartopy.feature.COASTLINE, lw=.3, linestyle=':')\n",
    "        ax.add_feature(cartopy.feature.LAKES, edgecolor='black', facecolor='white', lw=.3)\n",
    "\n",
    "        levels = MaxNLocator(nbins=100).tick_values(ll[ii], lr[ii])\n",
    "        cmap = plt.get_cmap(color[ii])\n",
    "        norm = BoundaryNorm(levels, ncolors=cmap.N, clip=True)\n",
    "\n",
    "        pc = plt.pcolormesh(Lon, Lat, np.where(mask, data[ii][mi, :, :], np.nan), norm=norm, cmap=cmap, transform=ccrs.PlateCarree())\n",
    "        if ii == 2:\n",
    "            plt.scatter(Lon, Lat, np.where(np.logical_and(pvalue[mi, :, :]<0.05, mask), 1, np.nan), 'grey', alpha=.1, transform=ccrs.PlateCarree())\n",
    "\n",
    "        plt.title(f'{title[ii]} in {month[mi]}', fontsize=13, fontweight='bold')\n",
    "        fig.subplots_adjust(bottom=0, top=0.9, left=0.1, right=0.9, wspace=0.05, hspace=0.02)\n",
    "        \n",
    "        if mi == 2:\n",
    "            cb_ax = fig.add_axes([0.905, ch[ii], 0.01, 0.25])\n",
    "            cbar = plt.colorbar(pc, cax=cb_ax, ticks=np.arange(ll[ii], lr[ii]+step[ii], step[ii]), extend=extend[ii])\n",
    "plt.suptitle('Freezing Days (Tmin<0\\u2103) from 1981 to 2018', fontsize=14, fontweight='bold')\n",
    "plt.savefig(f'./plot/Composite/FreezingDaysMeanStdTrend.png', bbox_inches='tight')\n",
    "plt.close()"
   ]
  },
  {
   "cell_type": "markdown",
   "metadata": {},
   "source": [
    "<font size=4 color=blue>trend of freezing days in April at individual location"
   ]
  },
  {
   "cell_type": "code",
   "execution_count": 5,
   "metadata": {},
   "outputs": [],
   "source": [
    "latloc = [45.993005, 44.661906, 41.309247, 39.710815, 36.289078]\n",
    "lonloc = [-87.647226, -84.546377, -87.292439, -81.960948, -97.326834]\n",
    "yloc = np.zeros(5)\n",
    "xloc = np.zeros(5)\n",
    "for li in range(5):\n",
    "    yloc[li] = np.argmin(abs(lat-latloc[li]))\n",
    "    xloc[li] = np.argmin(abs(lon-lonloc[li]))\n",
    "yloc = yloc.astype(int)\n",
    "xloc = xloc.astype(int)\n",
    "Aprcount = count[:, 1, :, :]\n",
    "X = np.linspace(1, 38, 38)\n",
    "li = 4\n",
    "# plt.figure(figsize=(8, 6))\n",
    "# plt.bar(X, Aprcount[:, yloc[li], xloc[li]])\n",
    "# plt.xticks(np.arange(1, 39, 2), [str(1981+i)[2:] for i in range(0, 39, 2)])\n",
    "# plt.ylim(0, 31)\n",
    "# plt.title(str(li+1), fontsize='large', fontweight='bold')\n",
    "# plt.show()"
   ]
  },
  {
   "cell_type": "code",
   "execution_count": 8,
   "metadata": {},
   "outputs": [],
   "source": [
    "# fig = plt.figure(figsize=(8, 6))\n",
    "# extent = [-105, -75, 34, 49]\n",
    "# ax = plt.axes(projection=ccrs.AlbersEqualArea(np.mean(extent[:2]), np.mean(extent[2:])))\n",
    "# ax.set_extent(extent)\n",
    "# states = NaturalEarthFeature(category=\"cultural\", scale=\"50m\",\n",
    "#                              facecolor=\"none\",\n",
    "#                              name=\"admin_1_states_provinces_shp\")\n",
    "# ax.add_feature(states, linewidth=.3, edgecolor=\"black\")\n",
    "# ax.add_feature(cartopy.feature.BORDERS, lw=.3, linestyle=':')\n",
    "# ax.add_feature(cartopy.feature.COASTLINE, lw=.3, linestyle=':')\n",
    "# ax.add_feature(cartopy.feature.LAKES, edgecolor='black', facecolor='white', lw=.3)\n",
    "\n",
    "# levels = MaxNLocator(nbins=100).tick_values(-.3, .3)\n",
    "# cmap = plt.get_cmap('bwr')\n",
    "# norm = BoundaryNorm(levels, ncolors=cmap.N, clip=True)\n",
    "\n",
    "# pc = plt.pcolormesh(Lon, Lat, slope[1, :, :], cmap=cmap, norm=norm, transform=ccrs.PlateCarree())\n",
    "# plt.scatter(Lon, Lat, np.where(pvalue[1, :, :]<0.05, 1, np.nan), 'grey', alpha=.1, transform=ccrs.PlateCarree())\n",
    "# for k in range(5):\n",
    "#     ax.plot(lonloc[k], latloc[k], 'c*', markersize=7, transform=ccrs.PlateCarree())\n",
    "#     ax.text(lonloc[k]-.5, latloc[k]+.3, f'{k+1}', c='m', fontsize=15, transform=ccrs.PlateCarree())\n",
    "\n",
    "# plt.title(f'Trend of Freezing Days (Tmin<0\\u2103) from 1981 to 2018', fontsize=13, fontweight='bold')\n",
    "\n",
    "# fig.subplots_adjust(bottom=0, top=0.95, left=0.05, right=0.9)\n",
    "# cb_ax = fig.add_axes([0.905, 0.12, 0.02, 0.72])\n",
    "# cbar = fig.colorbar(pc, cax=cb_ax, ticks=np.arange(-.3, .31, .1), extend='both') "
   ]
  },
  {
   "cell_type": "code",
   "execution_count": 6,
   "metadata": {},
   "outputs": [],
   "source": [
    "# count = np.load('./var/Min0DaysCount.npy')\n",
    "# count_mean = count.sum(axis=1).mean(axis=0)\n",
    "# count_std = count.sum(axis=1).std(axis=0)\n",
    "# slope = np.zeros((y, x))\n",
    "# pvalue = np.zeros((y, x))\n",
    "# X = np.linspace(1, 38, 38)\n",
    "\n",
    "# for i in range(y):\n",
    "#     for j in range(x):\n",
    "#         if mask[i, j]:\n",
    "#             r = stats.linregress(X, count[:, :, i, j].sum(axis=1))\n",
    "#             slope[i, j] = r.slope\n",
    "#             pvalue[i, j] = r.pvalue\n",
    "\n",
    "title = ['38 year mean', 'Standard Deviation', 'Trend']\n",
    "data = [count_mean, count_std, slope]\n",
    "extent = [-105, -75, 34, 49]\n",
    "ll = [0, 0, -.3]\n",
    "lr = [60, 12, .3]\n",
    "step = [10, 2, .1]\n",
    "color = ['jet_r', 'jet', 'bwr']\n",
    "extend = ['max', 'max', 'both']\n",
    "ch = [.625, .325, .025]\n",
    "fig, axs = plt.subplots(3, 1, figsize=(5, 9.5))\n",
    "for ii in range(3):\n",
    "    ax = plt.subplot(3,1,ii+1, projection=ccrs.AlbersEqualArea(np.mean(extent[:2]), np.mean(extent[2:])))\n",
    "    ax.set_extent(extent)\n",
    "    ax.add_feature(cartopy.feature.STATES.with_scale('10m'), lw=.5)\n",
    "    ax.add_feature(cartopy.feature.BORDERS, lw=.3, linestyle=':')\n",
    "    ax.add_feature(cartopy.feature.COASTLINE, lw=.3, linestyle=':')\n",
    "    ax.add_feature(cartopy.feature.LAKES, edgecolor='black', facecolor='white', lw=.3)\n",
    "\n",
    "    levels = MaxNLocator(nbins=100).tick_values(ll[ii], lr[ii])\n",
    "    cmap = plt.get_cmap(color[ii])\n",
    "    norm = BoundaryNorm(levels, ncolors=cmap.N, clip=True)\n",
    "\n",
    "    pc = plt.pcolormesh(Lon, Lat, np.where(mask, data[ii], np.nan), norm=norm, cmap=cmap, transform=ccrs.PlateCarree())\n",
    "    if ii == 2:\n",
    "        plt.scatter(Lon, Lat, np.where(np.logical_and(pvalue<0.05, mask), 1, np.nan), 'grey', alpha=.1, transform=ccrs.PlateCarree())\n",
    "\n",
    "    plt.title(f'{title[ii]}', fontsize=13, fontweight='bold')\n",
    "    fig.subplots_adjust(bottom=0, top=0.9, left=0.1, right=0.9, wspace=0.05, hspace=0.02)\n",
    "\n",
    "    cb_ax = fig.add_axes([0.91, ch[ii], 0.02, 0.25])\n",
    "    cbar = plt.colorbar(pc, cax=cb_ax, ticks=np.arange(ll[ii], lr[ii]+step[ii], step[ii]), extend=extend[ii])\n",
    "plt.suptitle('Freezing Days (Tmin<0\\u2103) from 1981 to 2018', fontsize=14, fontweight='bold')\n",
    "plt.savefig(f'./plot/Composite/FreezingDaysMeanStdTrend_Total.png', bbox_inches='tight')\n",
    "plt.close()"
   ]
  },
  {
   "cell_type": "markdown",
   "metadata": {},
   "source": [
    "<font size=4 color=blue>EOF on count above"
   ]
  },
  {
   "cell_type": "code",
   "execution_count": 3,
   "metadata": {},
   "outputs": [],
   "source": [
    "from sklearn import preprocessing\n",
    "scaler  = preprocessing.StandardScaler()\n",
    "from sklearn.decomposition import PCA"
   ]
  },
  {
   "cell_type": "code",
   "execution_count": 19,
   "metadata": {},
   "outputs": [],
   "source": [
    "t = 38\n",
    "\n",
    "count = np.load('./var/Min0DaysCount.npy')\n",
    "count_anomaly = count[:, 2, :, :] - count[:, 2, :, :].mean(axis=0)\n",
    "\n",
    "X1 = count_anomaly.reshape((t, y*x))\n",
    "X1 = np.ma.masked_array(X1, np.isnan(X1))\n",
    "\n",
    "nonflag = X1.sum(0).mask\n",
    "flag = ~nonflag\n",
    "X1 = X1[:,flag]\n",
    "X1 = (X1 - X1.mean()) / X1.std()\n",
    "\n",
    "skpca = PCA()\n",
    "pca1 = skpca.fit(X1)\n",
    "X1_pc = pca1.transform(X1)\n",
    "\n",
    "pc = (X1_pc[:, :2] - X1_pc[:, :2].mean()) / X1_pc[:, :2].std()\n",
    "# count_anomaly.shape"
   ]
  },
  {
   "cell_type": "code",
   "execution_count": null,
   "metadata": {},
   "outputs": [],
   "source": [
    "plt.figure(figsize=(9,6))\n",
    "plt.plot(pca1.explained_variance_ratio_[0:10]*100, 'b-o')\n",
    "plt.xticks(np.arange(10))\n",
    "plt.grid()\n",
    "plt.title('The percentage of the total variance explained by the first ten EOF modes', fontweight='bold')\n",
    "pca1.explained_variance_ratio_[0:10]"
   ]
  },
  {
   "cell_type": "code",
   "execution_count": 8,
   "metadata": {},
   "outputs": [],
   "source": [
    "n_comp = 1\n",
    "EOFs = pca1.components_[n_comp,:]\n",
    "EOF_recons = np.ones(x*y) * -999.\n",
    "EOF_recons[flag] = EOFs[:]\n",
    "EOF_recons = np.ma.masked_values(EOF_recons.reshape((y, x)), -999.)\n",
    "\n",
    "title = ['EOF1 59.81%', 'EOF2 9.91%']\n",
    "extent = [-105, -75, 34, 49]\n",
    "ii = 1\n",
    "fig = plt.figure(figsize=(8, 6))\n",
    "ax = plt.axes(projection=ccrs.AlbersEqualArea(np.mean(extent[:2]), np.mean(extent[2:])))\n",
    "ax.set_extent(extent)\n",
    "ax.add_feature(cartopy.feature.STATES.with_scale('10m'), lw=.5)\n",
    "ax.add_feature(cartopy.feature.BORDERS, lw=.3, linestyle=':')\n",
    "ax.add_feature(cartopy.feature.COASTLINE, lw=.3, linestyle=':')\n",
    "ax.add_feature(cartopy.feature.LAKES, edgecolor='black', facecolor='white', lw=.3)\n",
    "\n",
    "levels = MaxNLocator(nbins=100).tick_values(-1, 1)\n",
    "cmap = plt.get_cmap('bwr')\n",
    "norm = BoundaryNorm(levels, ncolors=cmap.N, clip=True)\n",
    "\n",
    "pc = plt.pcolormesh(Lon, Lat, np.where(mask, 100*EOF_recons, np.nan), cmap=cmap, norm=norm, transform=ccrs.PlateCarree())\n",
    "plt.title(f'{title[ii]}', fontsize=13, fontweight='bold')\n",
    "fig.subplots_adjust(bottom=0, top=0.95, left=0.05, right=0.9)\n",
    "cb_ax = fig.add_axes([0.905, 0.12, 0.02, 0.72])\n",
    "cbar = fig.colorbar(pc, cax=cb_ax, ticks=np.arange(-1, 1.1, .2), extend='both')"
   ]
  },
  {
   "cell_type": "code",
   "execution_count": null,
   "metadata": {},
   "outputs": [],
   "source": [
    "ii = 0\n",
    "pc = (X1_pc[:, :2] - X1_pc[:, :2].mean()) / X1_pc[:, :2].std()\n",
    "pc = pc[:, ii]\n",
    "plt.figure(figsize=(9,6))\n",
    "plt.plot(pc)\n",
    "plt.xlabel('Time from 1981 to 2018', fontweight='bold')\n",
    "plt.ylabel('Normalized Index', fontweight='bold')\n",
    "plt.title(f'PC{ii+1}', fontsize='large', fontweight='bold')\n",
    "plt.xticks(np.arange(0, 38, 4),[f'{1981+i}' for i in range(0, 38, 4)], fontweight='bold')\n",
    "plt.yticks(np.arange(-4, 5), fontweight='bold')\n",
    "plt.ylim(-4, 4)\n",
    "plt.xlim(0, 38)\n",
    "plt.hlines(0, 0, 38, 'k', ls='--')\n",
    "plt.show()"
   ]
  },
  {
   "cell_type": "markdown",
   "metadata": {},
   "source": [
    "<font size=4 color=blue>regression on climate variables"
   ]
  },
  {
   "cell_type": "code",
   "execution_count": 9,
   "metadata": {},
   "outputs": [],
   "source": [
    "import pygrib"
   ]
  },
  {
   "cell_type": "code",
   "execution_count": 21,
   "metadata": {},
   "outputs": [],
   "source": [
    "DIR = '/home/mmfire/study/2019-FWI-nasa-raw-cook/Python/ERA5_DATA/'\n",
    "grb = pygrib.open(DIR+'geopotential_500hPa_1979.grib')\n",
    "\n",
    "Lat = grb.message(1).latlons()[0]\n",
    "Lon = grb.message(1).latlons()[1] - 180\n",
    "\n",
    "extent = [-105, -75, 34, 49]\n",
    "lonl = 300\n",
    "lonr = 420\n",
    "latr = 224\n",
    "latl = 164\n",
    "# np.argmin(abs(Lat[:,0]-extent[3]))\n",
    "\n",
    "Lon = Lon[latl:latr, lonl:lonr]\n",
    "Lat = Lat[latl:latr, lonl:lonr]\n",
    "y, x = Lon.shape"
   ]
  },
  {
   "cell_type": "code",
   "execution_count": 11,
   "metadata": {},
   "outputs": [],
   "source": [
    "#500 hPa\n",
    "gph = np.zeros((38, y, x)) * np.nan\n",
    "for yl in range(38):\n",
    "    grb = pygrib.open(DIR+f'geopotential_500hPa_{1981+yl}.grib')\n",
    "    temp = np.zeros((y, x))\n",
    "    for mi in range(12):\n",
    "        data = grb.message(mi+1).data()[0][latl:latr, lonl:lonr]\n",
    "        temp = temp + data\n",
    "    gph[yl, :, :] = temp / 12.\n",
    "gph_anml = gph - gph.mean(axis=0)"
   ]
  },
  {
   "cell_type": "code",
   "execution_count": 55,
   "metadata": {},
   "outputs": [],
   "source": [
    "#700 hPa\n",
    "gph = np.zeros((38, y, x)) * np.nan\n",
    "for yl in range(38):\n",
    "    grb = pygrib.open(DIR+f'geopotential_700hPa_{1981+yl}.grib')\n",
    "    temp = np.zeros((y, x))\n",
    "    for mi in range(12):\n",
    "        data = grb.message(mi+1).data()[0][latl:latr, lonl:lonr]\n",
    "        temp = temp + data\n",
    "    gph[yl, :, :] = temp / 12.\n",
    "gph_anml = gph - gph.mean(axis=0)"
   ]
  },
  {
   "cell_type": "code",
   "execution_count": 56,
   "metadata": {},
   "outputs": [],
   "source": [
    "slope = np.zeros((2, y, x)) * np.nan\n",
    "pvalue = np.zeros((2, y, x)) * np.nan\n",
    "for i in range(y):\n",
    "    for j in range(x):\n",
    "        for pi in range(2):\n",
    "            r = stats.linregress(pc[:, pi], gph_anml[:, i, j])\n",
    "            slope[pi, i, j] = r.slope\n",
    "            pvalue[pi, i, j] = r.pvalue"
   ]
  },
  {
   "cell_type": "code",
   "execution_count": 64,
   "metadata": {},
   "outputs": [],
   "source": [
    "# extent = [-105, -75, 34, 49]\n",
    "# ii = 1\n",
    "# fig = plt.figure(figsize=(8, 6))\n",
    "# ax = plt.axes(projection=ccrs.AlbersEqualArea(np.mean(extent[:2]), np.mean(extent[2:])))\n",
    "# ax.set_extent(extent)\n",
    "# ax.add_feature(cartopy.feature.STATES.with_scale('10m'), lw=.5)\n",
    "# ax.add_feature(cartopy.feature.BORDERS, lw=.3, linestyle=':')\n",
    "# ax.add_feature(cartopy.feature.COASTLINE, lw=.3, linestyle=':')\n",
    "# ax.add_feature(cartopy.feature.LAKES, edgecolor='black', facecolor='white', lw=.3)\n",
    "\n",
    "# pcm = plt.contourf(Lon, Lat, slope[ii, :, :], cmap='bwr', levels=np.linspace(-60, 60, 100), transform=ccrs.PlateCarree(), extend='both')\n",
    "# plt.scatter(Lon, Lat, np.where(pvalue[ii, :, :]<0.05, 1, np.nan), 'grey', alpha=.1, transform=ccrs.PlateCarree())\n",
    "# plt.title('anomalous 700-hPa geopotential height (gpm) regressed on PC 2', fontsize=13, fontweight='bold')\n",
    "# fig.subplots_adjust(bottom=0, top=0.95, left=0.05, right=0.9)\n",
    "# cb_ax = fig.add_axes([0.905, 0.12, 0.02, 0.72])\n",
    "# cbar = fig.colorbar(pcm, cax=cb_ax, ticks=np.arange(-60, 61, 12))"
   ]
  },
  {
   "cell_type": "code",
   "execution_count": null,
   "metadata": {},
   "outputs": [],
   "source": []
  }
 ],
 "metadata": {
  "kernelspec": {
   "display_name": "Python 3",
   "language": "python",
   "name": "python3"
  },
  "language_info": {
   "codemirror_mode": {
    "name": "ipython",
    "version": 3
   },
   "file_extension": ".py",
   "mimetype": "text/x-python",
   "name": "python",
   "nbconvert_exporter": "python",
   "pygments_lexer": "ipython3",
   "version": "3.8.3"
  }
 },
 "nbformat": 4,
 "nbformat_minor": 4
}
