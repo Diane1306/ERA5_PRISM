{
 "cells": [
  {
   "cell_type": "code",
   "execution_count": 1,
   "metadata": {},
   "outputs": [],
   "source": [
    "import numpy as np\n",
    "import pandas as pd\n",
    "import rasterio\n",
    "import matplotlib.pyplot as plt"
   ]
  },
  {
   "cell_type": "code",
   "execution_count": 2,
   "metadata": {},
   "outputs": [
    {
     "data": {
      "text/plain": [
       "(357, 722)"
      ]
     },
     "execution_count": 2,
     "metadata": {},
     "output_type": "execute_result"
    }
   ],
   "source": [
    "lat = np.array([49.9166666666664 - i * 0.0416666666667 for i in range(357)])\n",
    "lon = np.array([-105.0416666666507 + i * 0.0416666666667 for i in range(722)])\n",
    "Lon, Lat = np.meshgrid(lon, lat)\n",
    "\n",
    "am = rasterio.open('PRISM_tmin_stable_4kmD2_19810101_bil.bil')\n",
    "a = am.read()[0, :357, 479:1201]\n",
    "mask = np.where(a>-1000, 1, 0)\n",
    "\n",
    "tmin81 = np.load('./prism/mw_tmin/1981_tmin.npz')['tmin']\n",
    "t, y, x = tmin81.shape\n",
    "y, x"
   ]
  },
  {
   "cell_type": "code",
   "execution_count": 18,
   "metadata": {},
   "outputs": [],
   "source": [
    "# MonStart = [59, 90, 120]\n",
    "# MonStartLeap = [60, 91, 121]\n",
    "# MonDays = [31, 30, 31]\n",
    "# Tcriteria = [0, -5, -10, -15, -20]\n",
    "# March = np.zeros((38, 5, 31))\n",
    "# April = np.zeros((38, 5, 30))\n",
    "# May = np.zeros((38, 5, 31))\n",
    "# count = [March, April, May]\n",
    "\n",
    "# for yl in range(38):\n",
    "#     tmin = np.load(f'./prism/mw_tmin/{1981+yl}_tmin.npz')['tmin']\n",
    "#     tmin = np.where(tmin>-100, tmin, np.nan)\n",
    "#     if (1981+yl)%4:\n",
    "#         MonS = MonStart\n",
    "#     else:\n",
    "#         MonS = MonStartLeap\n",
    "#     for mi in range(3):\n",
    "#         for ti in range(5):\n",
    "#             count[mi][yl, ti, :] = np.array([np.where(tmin[MonS[mi]+di, :, :]<Tcriteria[ti], 1, 0).sum()/(y*x) for di in range(MonDays[mi])])\n",
    "\n",
    "# np.save('./var/MarchCount', count[0])\n",
    "# np.save('./var/AprilCount', count[1])\n",
    "# np.save('./var/MayCount', count[2])"
   ]
  },
  {
   "cell_type": "code",
   "execution_count": 31,
   "metadata": {},
   "outputs": [
    {
     "name": "stderr",
     "output_type": "stream",
     "text": [
      "<ipython-input-31-8bd70ce3b233>:23: RuntimeWarning: invalid value encountered in less\n",
      "  count[mi][yl, ti, si, :] = np.array([np.where(np.where(mdmask[si], tmin[MonS[mi]+di, :, :], np.nan)<Tcriteria[ti], 1, 0).sum() / mdmask[si].sum() for di in range(MonDays[mi])])\n"
     ]
    }
   ],
   "source": [
    "# states = ['MI', 'ND', 'SD', 'NE', 'KS', 'OK', 'MN', 'IA', 'MO', 'WI', 'IL', 'IN', 'OH', 'KY', 'WV', 'PA']\n",
    "# mdmask = [np.load(f'./var/{states[ii]}_mask.npy') for ii in range(16)]\n",
    "\n",
    "# MonStart = [59, 90, 120]\n",
    "# MonStartLeap = [60, 91, 121]\n",
    "# MonDays = [31, 30, 31]\n",
    "# Tcriteria = [0, -5, -10, -15, -20]\n",
    "# March = np.zeros((38, 5, 16, 31))\n",
    "# April = np.zeros((38, 5, 16, 30))\n",
    "# May = np.zeros((38, 5, 16, 31))\n",
    "# count = [March, April, May]\n",
    "\n",
    "# for yl in range(38):\n",
    "#     tmin = np.load(f'./prism/mw_tmin/{1981+yl}_tmin.npz')['tmin']\n",
    "#     tmin = np.where(tmin>-100, tmin, np.nan)\n",
    "#     if (1981+yl)%4:\n",
    "#         MonS = MonStart\n",
    "#     else:\n",
    "#         MonS = MonStartLeap\n",
    "#     for mi in range(3):\n",
    "#         for ti in range(5):\n",
    "#             for si in range(16):\n",
    "#                 count[mi][yl, ti, si, :] = np.array([np.where(np.where(mdmask[si], tmin[MonS[mi]+di, :, :], np.nan)<Tcriteria[ti], 1, 0).sum() / mdmask[si].sum() for di in range(MonDays[mi])])\n",
    "\n",
    "# np.save('./var/MarchCountState', count[0])\n",
    "# np.save('./var/AprilCountState', count[1])\n",
    "# np.save('./var/MayCountState', count[2])"
   ]
  },
  {
   "cell_type": "code",
   "execution_count": 20,
   "metadata": {},
   "outputs": [],
   "source": [
    "March = np.load('./var/MarchCount.npy')\n",
    "April = np.load('./var/AprilCount.npy')\n",
    "May = np.load('./var/MayCount.npy')"
   ]
  },
  {
   "cell_type": "code",
   "execution_count": 21,
   "metadata": {},
   "outputs": [],
   "source": [
    "fig = plt.figure(figsize=(8, 6))\n",
    "X = np.arange(1981, 2019)\n",
    "plt.plot(X, March[:, 0, :].sum(axis=1), 'b-o', lw=1, ms=3)\n",
    "plt.plot(X, March[:, 1, :].sum(axis=1), 'g-o', lw=1, ms=3)\n",
    "plt.plot(X, March[:, 2, :].sum(axis=1), 'y-o', lw=1, ms=3)\n",
    "plt.plot(X, March[:, 3, :].sum(axis=1), 'm-o', lw=1, ms=3)\n",
    "plt.plot(X, March[:, 4, :].sum(axis=1), 'c-o', lw=1, ms=3)\n",
    "plt.xticks(np.arange(1981, 2018, 3), [str(X[i]) for i in range(0, 38, 3)])\n",
    "plt.ylim(0, 25)\n",
    "plt.legend(['Tmin<0\\u2103', 'Tmin<-5\\u2103', 'Tmin<-10\\u2103', 'Tmin<-15\\u2103', 'Tmin<-20\\u2103'], frameon=False)\n",
    "plt.title('31 days Sum of Area Percentage in March', fontsize='large', fontweight='bold')\n",
    "plt.savefig('./plot/Composite/MarchTotal.png', bbox_inches='tight')"
   ]
  },
  {
   "cell_type": "code",
   "execution_count": 22,
   "metadata": {},
   "outputs": [],
   "source": [
    "fig = plt.figure(figsize=(8, 6))\n",
    "X = np.arange(1981, 2019)\n",
    "plt.plot(X, April[:, 0, :].sum(axis=1), 'b-o', lw=1, ms=3)\n",
    "plt.plot(X, April[:, 1, :].sum(axis=1), 'g-o', lw=1, ms=3)\n",
    "plt.plot(X, April[:, 2, :].sum(axis=1), 'y-o', lw=1, ms=3)\n",
    "plt.plot(X, April[:, 3, :].sum(axis=1), 'm-o', lw=1, ms=3)\n",
    "plt.plot(X, April[:, 4, :].sum(axis=1), 'c-o', lw=1, ms=3)\n",
    "plt.xticks(np.arange(1981, 2018, 3), [str(X[i]) for i in range(0, 38, 3)])\n",
    "plt.ylim(0, 15)\n",
    "plt.legend(['Tmin<0\\u2103', 'Tmin<-5\\u2103', 'Tmin<-10\\u2103', 'Tmin<-15\\u2103', 'Tmin<-20\\u2103'], frameon=False)\n",
    "plt.title('30 days Sum of Area Percentage in April', fontsize='large', fontweight='bold')\n",
    "plt.savefig('./plot/Composite/AprilTotal.png', bbox_inches='tight')"
   ]
  },
  {
   "cell_type": "code",
   "execution_count": 23,
   "metadata": {},
   "outputs": [],
   "source": [
    "fig = plt.figure(figsize=(8, 6))\n",
    "X = np.arange(1981, 2019)\n",
    "plt.plot(X, May[:, 0, :].sum(axis=1), 'b-o', lw=1, ms=3)\n",
    "plt.plot(X, May[:, 1, :].sum(axis=1), 'g-o', lw=1, ms=3)\n",
    "plt.plot(X, May[:, 2, :].sum(axis=1), 'y-o', lw=1, ms=3)\n",
    "plt.plot(X, May[:, 3, :].sum(axis=1), 'm-o', lw=1, ms=3)\n",
    "plt.plot(X, May[:, 4, :].sum(axis=1), 'c-o', lw=1, ms=3)\n",
    "plt.xticks(np.arange(1981, 2018, 3), [str(X[i]) for i in range(0, 38, 3)])\n",
    "plt.ylim(0, 4)\n",
    "plt.legend(['Tmin<0\\u2103', 'Tmin<-5\\u2103', 'Tmin<-10\\u2103', 'Tmin<-15\\u2103', 'Tmin<-20\\u2103'], frameon=False)\n",
    "plt.title('31 days Sum of Area Percentage in May', fontsize='large', fontweight='bold')\n",
    "plt.savefig('./plot/Composite/MayTotal.png', bbox_inches='tight')"
   ]
  },
  {
   "cell_type": "code",
   "execution_count": 3,
   "metadata": {},
   "outputs": [],
   "source": [
    "MarchS = np.load('./var/MarchCountState.npy')\n",
    "AprilS = np.load('./var/AprilCountState.npy')\n",
    "MayS = np.load('./var/MayCountState.npy')"
   ]
  },
  {
   "cell_type": "code",
   "execution_count": 25,
   "metadata": {},
   "outputs": [],
   "source": [
    "states = ['MI', 'ND', 'SD', 'NE', 'KS', 'OK', 'MN', 'IA', 'MO', 'WI', 'IL', 'IN', 'OH', 'KY', 'WV', 'PA']\n",
    "fig, axs = plt.subplots(4, 4, sharex=True, sharey=True, figsize=(16, 14))\n",
    "for i in range(16):\n",
    "    plt.subplot(4,4,i+1)\n",
    "    X = np.arange(1981, 2019)\n",
    "    plt.plot(X, MarchS[:, 0, i, :].sum(axis=1), 'b-o', lw=1, ms=3)\n",
    "    plt.plot(X, MarchS[:, 1, i, :].sum(axis=1), 'g-o', lw=1, ms=3)\n",
    "    plt.plot(X, MarchS[:, 2, i, :].sum(axis=1), 'y-o', lw=1, ms=3)\n",
    "    plt.plot(X, MarchS[:, 3, i, :].sum(axis=1), 'm-o', lw=1, ms=3)\n",
    "    plt.plot(X, MarchS[:, 4, i, :].sum(axis=1), 'c-o', lw=1, ms=3)\n",
    "    plt.xticks(np.arange(1981, 2019, 4), [str(X[i])[2:] for i in range(0, 39, 4)])\n",
    "    plt.ylim(0, 32)\n",
    "    plt.grid()\n",
    "    plt.title(f'March in {states[i]}', fontweight='bold')\n",
    "    if not i%4:\n",
    "        plt.legend(['Tmin<0\\u2103', 'Tmin<-5\\u2103', 'Tmin<-10\\u2103', 'Tmin<-15\\u2103', 'Tmin<-20\\u2103'], frameon=False)\n",
    "plt.savefig('./plot/Composite/MarchState.png', bbox_inches='tight')"
   ]
  },
  {
   "cell_type": "code",
   "execution_count": 26,
   "metadata": {},
   "outputs": [],
   "source": [
    "states = ['MI', 'ND', 'SD', 'NE', 'KS', 'OK', 'MN', 'IA', 'MO', 'WI', 'IL', 'IN', 'OH', 'KY', 'WV', 'PA']\n",
    "fig, axs = plt.subplots(4, 4, sharex=True, sharey=True, figsize=(16, 14))\n",
    "for i in range(16):\n",
    "    plt.subplot(4,4,i+1)\n",
    "    X = np.arange(1981, 2019)\n",
    "    plt.plot(X, AprilS[:, 0, i, :].sum(axis=1), 'b-o', lw=1, ms=3)\n",
    "    plt.plot(X, AprilS[:, 1, i, :].sum(axis=1), 'g-o', lw=1, ms=3)\n",
    "    plt.plot(X, AprilS[:, 2, i, :].sum(axis=1), 'y-o', lw=1, ms=3)\n",
    "    plt.plot(X, AprilS[:, 3, i, :].sum(axis=1), 'm-o', lw=1, ms=3)\n",
    "    plt.plot(X, AprilS[:, 4, i, :].sum(axis=1), 'c-o', lw=1, ms=3)\n",
    "    plt.xticks(np.arange(1981, 2019, 4), [str(X[i])[2:] for i in range(0, 39, 4)])\n",
    "    plt.ylim(0, 32)\n",
    "    plt.grid()\n",
    "    plt.title(f'April in {states[i]}', fontweight='bold')\n",
    "    if not i%4:\n",
    "        plt.legend(['Tmin<0\\u2103', 'Tmin<-5\\u2103', 'Tmin<-10\\u2103', 'Tmin<-15\\u2103', 'Tmin<-20\\u2103'], frameon=False)\n",
    "plt.savefig('./plot/Composite/AprilState.png', bbox_inches='tight')"
   ]
  },
  {
   "cell_type": "code",
   "execution_count": 27,
   "metadata": {},
   "outputs": [],
   "source": [
    "states = ['MI', 'ND', 'SD', 'NE', 'KS', 'OK', 'MN', 'IA', 'MO', 'WI', 'IL', 'IN', 'OH', 'KY', 'WV', 'PA']\n",
    "fig, axs = plt.subplots(4, 4, sharex=True, sharey=True, figsize=(16, 14))\n",
    "for i in range(16):\n",
    "    plt.subplot(4,4,i+1)\n",
    "    X = np.arange(1981, 2019)\n",
    "    plt.plot(X, MayS[:, 0, i, :].sum(axis=1), 'b-o', lw=1, ms=3)\n",
    "    plt.plot(X, MayS[:, 1, i, :].sum(axis=1), 'g-o', lw=1, ms=3)\n",
    "    plt.plot(X, MayS[:, 2, i, :].sum(axis=1), 'y-o', lw=1, ms=3)\n",
    "    plt.plot(X, MayS[:, 3, i, :].sum(axis=1), 'm-o', lw=1, ms=3)\n",
    "    plt.plot(X, MayS[:, 4, i, :].sum(axis=1), 'c-o', lw=1, ms=3)\n",
    "    plt.xticks(np.arange(1981, 2019, 4), [str(X[i])[2:] for i in range(0, 39, 4)])\n",
    "    plt.ylim(0, 10)\n",
    "    plt.grid()\n",
    "    plt.title(f'May in {states[i]}', fontweight='bold')\n",
    "    if not i%4:\n",
    "        plt.legend(['Tmin<0\\u2103', 'Tmin<-5\\u2103', 'Tmin<-10\\u2103', 'Tmin<-15\\u2103', 'Tmin<-20\\u2103'], frameon=False)\n",
    "plt.savefig('./plot/Composite/MayState.png', bbox_inches='tight')"
   ]
  }
 ],
 "metadata": {
  "kernelspec": {
   "display_name": "Python 3",
   "language": "python",
   "name": "python3"
  },
  "language_info": {
   "codemirror_mode": {
    "name": "ipython",
    "version": 3
   },
   "file_extension": ".py",
   "mimetype": "text/x-python",
   "name": "python",
   "nbconvert_exporter": "python",
   "pygments_lexer": "ipython3",
   "version": "3.8.3"
  }
 },
 "nbformat": 4,
 "nbformat_minor": 4
}
