{
 "cells": [
  {
   "cell_type": "code",
   "execution_count": 1,
   "metadata": {},
   "outputs": [],
   "source": [
    "import numpy as np\n",
    "import pandas as pd\n",
    "from zipfile import ZipFile\n",
    "import os\n",
    "import rasterio\n",
    "from scipy import stats\n",
    "\n",
    "import matplotlib.pyplot as plt\n",
    "from matplotlib.ticker import MaxNLocator\n",
    "from matplotlib.colors import BoundaryNorm\n",
    "from cartopy.feature import NaturalEarthFeature\n",
    "import cartopy.crs as ccrs\n",
    "import cartopy"
   ]
  },
  {
   "cell_type": "code",
   "execution_count": 2,
   "metadata": {},
   "outputs": [
    {
     "data": {
      "text/plain": [
       "(357, 722)"
      ]
     },
     "execution_count": 2,
     "metadata": {},
     "output_type": "execute_result"
    }
   ],
   "source": [
    "lat = np.array([49.9166666666664 - i * 0.0416666666667 for i in range(357)])\n",
    "lon = np.array([-105.0416666666507 + i * 0.0416666666667 for i in range(722)])\n",
    "Lon, Lat = np.meshgrid(lon, lat)\n",
    "\n",
    "am = rasterio.open('PRISM_tmin_stable_4kmD2_19810101_bil.bil')\n",
    "a = am.read()[0, :357, 479:1201]\n",
    "mask = np.where(a>-1000, 1, 0)\n",
    "\n",
    "tmin81 = np.load('./prism/mw_tmin/1981_tmin.npz')['tmin']\n",
    "t, y, x = tmin81.shape\n",
    "y, x"
   ]
  },
  {
   "cell_type": "code",
   "execution_count": 3,
   "metadata": {},
   "outputs": [],
   "source": [
    "# var_mean = [np.zeros((y, x)) * np.nan for i in range(5)]\n",
    "# var_std = [np.zeros((y, x)) * np.nan for i in range(5)]\n",
    "# slope = [np.zeros((y, x)) * np.nan for i in range(5)]\n",
    "# pvalue = [np.zeros((y, x)) * np.nan for i in range(5)]\n",
    "# X = np.linspace(1, 38, 38)\n",
    "# name = ['year','sidegreen','bloom','pdays','yield']\n",
    "\n",
    "# for i in range(y):\n",
    "#     for j in range(x):\n",
    "#         if mask[i, j]:\n",
    "#             df = pd.read_table(f'./GDD/output_Cherry/yearly/{Lat[i, j]:.2f}_{Lon[i, j]:.2f}_yearly.txt', delim_whitespace=True, \n",
    "#                                    names=('year','sidegreen','bloom','pdays','yield'))\n",
    "#             for ii in range(1,5):\n",
    "#                 var_mean[ii-1][i,j] = df[name[ii]].mean()\n",
    "                \n",
    "#                 var_detrend = df[name[ii]] - var_mean[ii-1][i, j]\n",
    "#                 var_std[ii-1][i,j] = np.sqrt(((var_detrend - var_detrend.mean())**2).sum() / 38.)\n",
    "                \n",
    "#                 r = stats.linregress(X, df[name[ii]])\n",
    "#                 slope[ii-1][i, j] = r.slope\n",
    "#                 pvalue[ii-1][i, j] = r.pvalue\n",
    "            \n",
    "#             spring = df['bloom'] - df['sidegreen']\n",
    "#             var_mean[-1][i,j] = spring.mean()\n",
    "#             var_detrend = spring - var_mean[-1][i, j]\n",
    "#             var_std[-1][i,j] = np.sqrt(((var_detrend - var_detrend.mean())**2).sum() / 38.)    \n",
    "#             r = stats.linregress(X, spring)\n",
    "#             slope[-1][i, j] = r.slope\n",
    "#             pvalue[-1][i, j] = r.pvalue\n",
    "\n",
    "# np.save('./GDD/var_yearly_Cherry', np.array(var_mean))\n",
    "# np.save('./GDD/var_std_Cherry', np.array(var_std))\n",
    "# np.save('./GDD/var_yearly__slope_Cherry', np.array(slope))\n",
    "# np.save('./GDD/var_yearly_pvalue_Cherry', np.array(pvalue))"
   ]
  },
  {
   "cell_type": "code",
   "execution_count": 3,
   "metadata": {},
   "outputs": [],
   "source": [
    "var_mean = np.load('./GDD/var_yearly_Cherry.npy')\n",
    "var_std = np.load('./GDD/var_std_Cherry.npy')\n",
    "var_slope = np.load('./GDD/var_yearly__slope_Cherry.npy')\n",
    "var_pvalue = np.load('./GDD/var_yearly_pvalue_Cherry.npy')"
   ]
  },
  {
   "cell_type": "code",
   "execution_count": 4,
   "metadata": {},
   "outputs": [],
   "source": [
    "data = []\n",
    "pvalue = []\n",
    "data.append(var_mean[0, :, :])\n",
    "data.append(var_std[0, :, :])\n",
    "data.append(var_slope[0, :, :])\n",
    "pvalue.append(var_pvalue[0, :, :])\n",
    "data.append(var_mean[1, :, :])\n",
    "data.append(var_std[1, :, :])\n",
    "data.append(var_slope[1, :, :])\n",
    "pvalue.append(var_pvalue[1, :, :])\n",
    "data.append(var_mean[4, :, :])\n",
    "data.append(var_std[4, :, :])\n",
    "data.append(var_slope[4, :, :])\n",
    "pvalue.append(var_pvalue[4, :, :])"
   ]
  },
  {
   "cell_type": "code",
   "execution_count": 45,
   "metadata": {},
   "outputs": [
    {
     "name": "stderr",
     "output_type": "stream",
     "text": [
      "<ipython-input-45-207253e8bbbc>:27: RuntimeWarning: invalid value encountered in less\n",
      "  plt.scatter(Lon, Lat, np.where(pvalue[int((i-2)/3)]<0.05, 1, np.nan), 'grey', alpha=.1, transform=ccrs.PlateCarree())\n"
     ]
    }
   ],
   "source": [
    "extent = [-105, -75, 34, 49]\n",
    "fig, axs = plt.subplots(3, 3, figsize=(15, 9.5))\n",
    "ll = [0, 0, -.6, 0, 0, -.6, 0, 0, -.6]\n",
    "lr = [160, 16, .6, 160, 16, .6, 40, 16, .6]\n",
    "step = [40, 2, .2, 40, 2, .2, 10, 2, .2]\n",
    "title = ['(a) Side Green mean', '(b) Side Green std', '(c) Side Green slope', '(d) Full Bloom mean', \n",
    "         '(e) Full Bloom std', '(f) Full Bloom slope', '(g) Spring Duration mean', '(h) Spring Duration std', \n",
    "         '(i) Spring Duration slope']\n",
    "pc = []\n",
    "for i in range(9):\n",
    "    ax = plt.subplot(3,3,i+1, projection=ccrs.AlbersEqualArea(np.mean(extent[:2]), np.mean(extent[2:])))\n",
    "    ax.set_extent(extent)\n",
    "    ax.add_feature(cartopy.feature.BORDERS, lw=.1, linestyle=':')\n",
    "    ax.add_feature(cartopy.feature.COASTLINE, lw=.1, linestyle=':')\n",
    "    ax.add_feature(cartopy.feature.STATES.with_scale('10m'), lw=.5)\n",
    "    ax.add_feature(cartopy.feature.LAKES, edgecolor='black', facecolor='white', lw=.3)\n",
    "    \n",
    "    levels = MaxNLocator(nbins=100).tick_values(ll[i], lr[i])\n",
    "    if i%3-2:\n",
    "        cmap = plt.get_cmap('viridis')\n",
    "    else:\n",
    "        cmap = plt.get_cmap('bwr')\n",
    "    norm = BoundaryNorm(levels, ncolors=cmap.N, clip=True)\n",
    "\n",
    "    pc.append(plt.pcolormesh(Lon, Lat, data[i], cmap=cmap, norm=norm, transform=ccrs.PlateCarree()))\n",
    "    if i%3 == 2:\n",
    "        plt.scatter(Lon, Lat, np.where(pvalue[int((i-2)/3)]<0.05, 1, np.nan), 'grey', alpha=.1, transform=ccrs.PlateCarree())\n",
    "    ax.text(.99,.95,title[i], fontsize=13, fontweight='bold',horizontalalignment='right',transform=ax.transAxes)\n",
    "plt.subplots_adjust(bottom=0.02, top=.98, left=0.02, right=.98,\n",
    "                    wspace=0.005, hspace=0.005)\n",
    "i = 0\n",
    "cb_ax = fig.add_axes([.005, 0.345, 0.01, 0.64])\n",
    "cbar = fig.colorbar(pc[i], cax=cb_ax, ticks=np.arange(ll[i], lr[i]+step[i], step[i]), extend='max')\n",
    "cb_ax.yaxis.set_ticks_position('left')\n",
    "cb_ax.tick_params(labelsize=12) \n",
    "i = 2\n",
    "cb_ax = fig.add_axes([0.985, .02, 0.01, 0.96])\n",
    "cbar = fig.colorbar(pc[i], cax=cb_ax, ticks=np.arange(ll[i], lr[i]+step[i], step[i]), extend='both')\n",
    "cb_ax.tick_params(labelsize=12)\n",
    "i = 6\n",
    "cb_ax = fig.add_axes([0.005, .02, 0.01, 0.32])\n",
    "cbar = fig.colorbar(pc[i], cax=cb_ax, ticks=np.arange(ll[i], lr[i]+step[i], step[i]), extend='max')\n",
    "cb_ax.yaxis.set_ticks_position('left')\n",
    "cb_ax.tick_params(labelsize=12)\n",
    "i = 7\n",
    "cb_ax = fig.add_axes([0.34, .005, 0.32, 0.01])\n",
    "cbar = fig.colorbar(pc[i], cax=cb_ax, ticks=np.arange(ll[i], lr[i]+step[i], step[i]), extend='max', orientation=\"horizontal\")\n",
    "cb_ax.tick_params(labelsize=12)\n",
    "\n",
    "plt.savefig('./plot/AgPaper/fig1.png', bbox_inches='tight')\n",
    "plt.close()"
   ]
  },
  {
   "cell_type": "code",
   "execution_count": 46,
   "metadata": {},
   "outputs": [],
   "source": [
    "data = []\n",
    "pvalue = []\n",
    "data.append(var_mean[2, :, :])\n",
    "data.append(var_std[2, :, :])\n",
    "data.append(var_slope[2, :, :])\n",
    "pvalue.append(var_pvalue[2, :, :])\n",
    "data.append(var_mean[3, :, :])\n",
    "data.append(var_std[3, :, :])\n",
    "data.append(var_slope[3, :, :])\n",
    "pvalue.append(var_pvalue[3, :, :])"
   ]
  },
  {
   "cell_type": "code",
   "execution_count": null,
   "metadata": {},
   "outputs": [],
   "source": [
    "# extent = [-105, -75, 34, 49]\n",
    "# fig, axs = plt.subplots(3, 2, figsize=(13, 8))\n",
    "# ll = [0, 0, -.6, 0, 0, -.6, 0, 0, -.6]\n",
    "# lr = [160, 16, .6, 160, 16, .6, 40, 16, .6]\n",
    "# step = [40, 2, .2, 40, 2, .2, 10, 2, .2]\n",
    "# title = ['(a) Side Green mean', '(b) Side Green std', '(c) Side Green slope', '(d) Full Bloom mean', \n",
    "#          '(e) Full Bloom std', '(f) Full Bloom slope', '(g) Spring Duration mean', '(h) Spring Duration std', \n",
    "#          '(i) Spring Duration slope']\n",
    "# pc = []\n",
    "# for i in range(9):\n",
    "#     ax = plt.subplot(3,3,i+1, projection=ccrs.AlbersEqualArea(np.mean(extent[:2]), np.mean(extent[2:])))\n",
    "#     ax.set_extent(extent)\n",
    "#     ax.add_feature(cartopy.feature.BORDERS, lw=.1, linestyle=':')\n",
    "#     ax.add_feature(cartopy.feature.COASTLINE, lw=.1, linestyle=':')\n",
    "#     ax.add_feature(cartopy.feature.STATES.with_scale('10m'), lw=.5)\n",
    "#     ax.add_feature(cartopy.feature.LAKES, edgecolor='black', facecolor='white', lw=.3)\n",
    "    \n",
    "#     levels = MaxNLocator(nbins=100).tick_values(ll[i], lr[i])\n",
    "#     if i%3-2:\n",
    "#         cmap = plt.get_cmap('viridis')\n",
    "#     else:\n",
    "#         cmap = plt.get_cmap('bwr')\n",
    "#     norm = BoundaryNorm(levels, ncolors=cmap.N, clip=True)\n",
    "\n",
    "#     pc.append(plt.pcolormesh(Lon, Lat, data[i], cmap=cmap, norm=norm, transform=ccrs.PlateCarree()))\n",
    "#     if i%3 == 2:\n",
    "#         plt.scatter(Lon, Lat, np.where(pvalue[int((i-2)/3)]<0.05, 1, np.nan), 'grey', alpha=.1, transform=ccrs.PlateCarree())\n",
    "#     ax.text(.99,.95,title[i], fontsize=13, fontweight='bold',horizontalalignment='right',transform=ax.transAxes)\n",
    "# plt.subplots_adjust(bottom=0.02, top=.98, left=0.02, right=.98,\n",
    "#                     wspace=0.005, hspace=0.005)\n",
    "# i = 0\n",
    "# cb_ax = fig.add_axes([.005, 0.345, 0.01, 0.64])\n",
    "# cbar = fig.colorbar(pc[i], cax=cb_ax, ticks=np.arange(ll[i], lr[i]+step[i], step[i]), extend='max')\n",
    "# cb_ax.yaxis.set_ticks_position('left')\n",
    "# cb_ax.tick_params(labelsize=12) \n",
    "# i = 2\n",
    "# cb_ax = fig.add_axes([0.985, .02, 0.01, 0.96])\n",
    "# cbar = fig.colorbar(pc[i], cax=cb_ax, ticks=np.arange(ll[i], lr[i]+step[i], step[i]), extend='both')\n",
    "# cb_ax.tick_params(labelsize=12)\n",
    "# i = 6\n",
    "# cb_ax = fig.add_axes([0.005, .02, 0.01, 0.32])\n",
    "# cbar = fig.colorbar(pc[i], cax=cb_ax, ticks=np.arange(ll[i], lr[i]+step[i], step[i]), extend='max')\n",
    "# cb_ax.yaxis.set_ticks_position('left')\n",
    "# cb_ax.tick_params(labelsize=12)\n",
    "# i = 7\n",
    "# cb_ax = fig.add_axes([0.34, .005, 0.32, 0.01])\n",
    "# cbar = fig.colorbar(pc[i], cax=cb_ax, ticks=np.arange(ll[i], lr[i]+step[i], step[i]), extend='max', orientation=\"horizontal\")\n",
    "# cb_ax.tick_params(labelsize=12)\n",
    "\n",
    "# # plt.savefig('./plot/AgPaper/fig2.png', bbox_inches='tight')\n",
    "# # plt.close()"
   ]
  }
 ],
 "metadata": {
  "kernelspec": {
   "display_name": "Python 3",
   "language": "python",
   "name": "python3"
  },
  "language_info": {
   "codemirror_mode": {
    "name": "ipython",
    "version": 3
   },
   "file_extension": ".py",
   "mimetype": "text/x-python",
   "name": "python",
   "nbconvert_exporter": "python",
   "pygments_lexer": "ipython3",
   "version": "3.8.3"
  }
 },
 "nbformat": 4,
 "nbformat_minor": 4
}
