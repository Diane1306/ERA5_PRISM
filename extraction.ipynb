{
 "cells": [
  {
   "cell_type": "code",
   "execution_count": 1,
   "metadata": {},
   "outputs": [],
   "source": [
    "import numpy as np\n",
    "import pygrib\n",
    "import pandas as pd\n",
    "import time"
   ]
  },
  {
   "cell_type": "code",
   "execution_count": 11,
   "metadata": {},
   "outputs": [],
   "source": [
    "# east lansing\n",
    "data = []\n",
    "for yl in range(18):\n",
    "    grbs = pygrib.open('./data/ERA5-Land_9km/solar_{0}.grib'.format(yl+2001)) \n",
    "    n = grbs.messages\n",
    "    for i in range(1,n+1):\n",
    "        data0 = grbs.message(i).data(lat1=42.6,lat2=42.7,lon1=-84.6,lon2=-84.5)[0].data[0,0]\n",
    "        data.append(data0)\n",
    "    grbs.close()"
   ]
  },
  {
   "cell_type": "code",
   "execution_count": 12,
   "metadata": {},
   "outputs": [],
   "source": [
    "df = pd.DataFrame(data=np.array(data),index=pd.date_range(start='1/1/2001', end='1/1/2019', freq='H')[1:-1], columns=['Solar'])\n",
    "df.to_csv('solar_2001-2018_9km.csv')"
   ]
  },
  {
   "cell_type": "code",
   "execution_count": 8,
   "metadata": {},
   "outputs": [],
   "source": [
    "data = []\n",
    "for yl in range(18):\n",
    "    grbs = pygrib.open('./data/ERA5-single_level-30km/2m_temp_{0}.grib'.format(yl+2001)) \n",
    "    n = grbs.messages\n",
    "    for i in range(1,n+1):\n",
    "        data0 = grbs.message(i).data(lat1=42.6,lat2=42.75,lon1=-84.6,lon2=-84.5)[0].data[0,0]\n",
    "        data.append(data0)\n",
    "    grbs.close()"
   ]
  },
  {
   "cell_type": "code",
   "execution_count": 10,
   "metadata": {},
   "outputs": [],
   "source": [
    "df = pd.DataFrame(data=np.array(data),index=pd.date_range(start='1/1/2001', end='1/1/2019', freq='H')[1:-1], columns=['Temp'])\n",
    "df.to_csv('temp_2001-2018_30km.csv')"
   ]
  },
  {
   "cell_type": "code",
   "execution_count": 12,
   "metadata": {},
   "outputs": [
    {
     "name": "stdout",
     "output_type": "stream",
     "text": [
      "2446.3779571056366\n"
     ]
    }
   ],
   "source": [
    "# GRR\n",
    "data = []\n",
    "for yl in range(18):\n",
    "    grbs = pygrib.open('./data/ERA5-Land_9km/solar_{0}.grib'.format(yl+2001)) \n",
    "    n = grbs.messages\n",
    "    for i in range(1,n+1):\n",
    "        data0 = grbs.message(i).data(lat1=42.8,lat2=42.9,lon1=-85.6,lon2=-85.5)[0].data[0,0]\n",
    "        data.append(data0)\n",
    "    grbs.close()\n",
    "\n",
    "df = pd.DataFrame(data=np.array(data),index=pd.date_range(start='1/1/2001', end='1/1/2019', freq='H')[1:-1], columns=['Solar'])\n",
    "df.to_csv('./extracted/GRR/solar_2001-2018_9km.csv', index=False)\n"
   ]
  },
  {
   "cell_type": "code",
   "execution_count": 20,
   "metadata": {},
   "outputs": [],
   "source": [
    "# GRR\n",
    "data = []\n",
    "for yl in range(18):\n",
    "    grbs = pygrib.open('./data/ERA5-single_level-30km/solar_{0}.grib'.format(yl+2001)) \n",
    "    n = grbs.messages\n",
    "    for i in range(1,n+1):\n",
    "        data0 = grbs.message(i).data(lat1=42.8,lat2=43.0,lon1=-85.6,lon2=-85.5)[0].data[0,0]\n",
    "        data.append(data0)\n",
    "    grbs.close()\n",
    "\n",
    "df = pd.DataFrame(data=np.array(data), columns=['Solar'])\n",
    "df.to_csv('./extracted/GRR/solar_2001-2018_30km.csv', index=False)\n"
   ]
  },
  {
   "cell_type": "code",
   "execution_count": 5,
   "metadata": {},
   "outputs": [
    {
     "data": {
      "text/plain": [
       "(masked_array(data=[[0.0]],\n",
       "              mask=[[False]],\n",
       "        fill_value=9999.0), array([[44.9]]), array([[-84.7]]))"
      ]
     },
     "execution_count": 5,
     "metadata": {},
     "output_type": "execute_result"
    }
   ],
   "source": [
    "# Gaylord\n",
    "data = []\n",
    "for yl in range(18):\n",
    "    grbs = pygrib.open('./data/ERA5-Land_9km/solar_{0}.grib'.format(yl+2001)) \n",
    "    n = grbs.messages\n",
    "    for i in range(1,n+1):\n",
    "        data0 = grbs.message(i).data(lat1=44.8,lat2=44.9,lon1=-84.8,lon2=-84.7)[0].data[0,0]\n",
    "        data.append(data0)\n",
    "    grbs.close()\n",
    "\n",
    "df = pd.DataFrame(data=np.array(data), columns=['Solar'])\n",
    "df.to_csv('./extracted/Gaylord/solar_2001-2018_9km.csv', index=False)\n"
   ]
  },
  {
   "cell_type": "code",
   "execution_count": 7,
   "metadata": {},
   "outputs": [
    {
     "data": {
      "text/plain": [
       "(array([[0.]]), array([[45.]]), array([[-84.75]]))"
      ]
     },
     "execution_count": 7,
     "metadata": {},
     "output_type": "execute_result"
    }
   ],
   "source": [
    "# Gaylord\n",
    "data = []\n",
    "for yl in range(18):\n",
    "    grbs = pygrib.open('./data/ERA5-single_level-30km/solar_{0}.grib'.format(yl+2001)) \n",
    "    n = grbs.messages\n",
    "    for i in range(1,n+1):\n",
    "        data0 = grbs.message(i).data(lat1=44.8,lat2=45.0,lon1=-84.8,lon2=-84.75)[0].data[0,0]\n",
    "        data.append(data0)\n",
    "    grbs.close()\n",
    "\n",
    "df = pd.DataFrame(data=np.array(data), columns=['solar'])\n",
    "df.to_csv('./extracted/Gaylord/solar_2001-2018_30km.csv', index=False)\n"
   ]
  },
  {
   "cell_type": "code",
   "execution_count": 2,
   "metadata": {},
   "outputs": [],
   "source": [
    "# South Haven\n",
    "data = []\n",
    "for yl in range(18):\n",
    "    grbs = pygrib.open('./data/ERA5-Land_9km/solar_{0}.grib'.format(yl+2001)) \n",
    "    n = grbs.messages\n",
    "    for i in range(1,n+1):\n",
    "        data0 = grbs.message(i).data(lat1=42.3,lat2=42.4,lon1=-86.4,lon2=-86.3)[0].data[0,0]\n",
    "        data.append(data0)\n",
    "    grbs.close()\n",
    "\n",
    "df = pd.DataFrame(data=np.array(data), columns=['solar'])\n",
    "df.to_csv('./extracted/South_Haven/solar_2001-2018_9km.csv', index=False)\n"
   ]
  },
  {
   "cell_type": "code",
   "execution_count": null,
   "metadata": {},
   "outputs": [],
   "source": [
    "# East Leland\n",
    "data = []\n",
    "for yl in range(18):\n",
    "    grbs = pygrib.open('./data/ERA5-Land_9km/solar_{0}.grib'.format(yl+2001)) \n",
    "    n = grbs.messages\n",
    "    for i in range(1,n+1):\n",
    "        data0 = grbs.message(i).data(lat1=44.9,lat2=45.0,lon1=-85.8,lon2=-85.7)[0].data[0,0]\n",
    "        data.append(data0)\n",
    "    grbs.close()\n",
    "\n",
    "df = pd.DataFrame(data=np.array(data), columns=['Solar'])\n",
    "df.to_csv('./extracted/East_Leland/solar_2001-2018_9km.csv', index=False)\n"
   ]
  },
  {
   "cell_type": "code",
   "execution_count": null,
   "metadata": {},
   "outputs": [],
   "source": [
    "# Traverse City\n",
    "data = []\n",
    "for yl in range(18):\n",
    "    grbs = pygrib.open('./data/ERA5-Land_9km/solar_{0}.grib'.format(yl+2001)) \n",
    "    n = grbs.messages\n",
    "    for i in range(1,n+1):\n",
    "        data0 = grbs.message(i).data(lat1=44.6,lat2=44.7,lon1=-85.7,lon2=-85.6)[0].data[0,0]\n",
    "        data.append(data0)\n",
    "    grbs.close()\n",
    "\n",
    "df = pd.DataFrame(data=np.array(data), columns=['Solar'])\n",
    "df.to_csv('./extracted/TVC/solar_2001-2018_9km.csv', index=False)\n"
   ]
  },
  {
   "cell_type": "code",
   "execution_count": null,
   "metadata": {},
   "outputs": [],
   "source": [
    "# case\n",
    "data = []\n",
    "for yl in range(30):\n",
    "    grbs = pygrib.open('./data/ERA5-single_level-30km/2m_temp_{0}.grib'.format(yl+1979)) \n",
    "    n = grbs.messages\n",
    "    for i in range(1,n+1):\n",
    "        data0 = grbs.message(i).data(lat1=42.25,lat2=42.5,lon1=-88.25,lon2=-88.0)[0].data[0,0]\n",
    "        data.append(data0)\n",
    "    grbs.close()\n",
    "\n",
    "df = pd.DataFrame(data=np.array(data), columns=['Temp'])\n",
    "df.to_csv('./extracted/case/r_temp_1979-2018_30km.csv', index=False)\n"
   ]
  },
  {
   "cell_type": "code",
   "execution_count": null,
   "metadata": {},
   "outputs": [],
   "source": []
  },
  {
   "cell_type": "code",
   "execution_count": null,
   "metadata": {},
   "outputs": [],
   "source": []
  },
  {
   "cell_type": "code",
   "execution_count": null,
   "metadata": {},
   "outputs": [],
   "source": []
  }
 ],
 "metadata": {
  "kernelspec": {
   "display_name": "Python 3",
   "language": "python",
   "name": "python3"
  },
  "language_info": {
   "codemirror_mode": {
    "name": "ipython",
    "version": 3
   },
   "file_extension": ".py",
   "mimetype": "text/x-python",
   "name": "python",
   "nbconvert_exporter": "python",
   "pygments_lexer": "ipython3",
   "version": "3.6.9"
  }
 },
 "nbformat": 4,
 "nbformat_minor": 2
}
