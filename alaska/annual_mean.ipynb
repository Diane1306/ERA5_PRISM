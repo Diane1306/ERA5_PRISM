{
 "cells": [
  {
   "cell_type": "code",
   "execution_count": 1,
   "metadata": {},
   "outputs": [
    {
     "name": "stderr",
     "output_type": "stream",
     "text": [
      "/home/mmfire/anaconda3/lib/python3.6/site-packages/dask/config.py:168: YAMLLoadWarning: calling yaml.load() without Loader=... is deprecated, as the default Loader is unsafe. Please read https://msg.pyyaml.org/load for full details.\n",
      "  data = yaml.load(f.read()) or {}\n",
      "/home/mmfire/anaconda3/lib/python3.6/site-packages/distributed/config.py:20: YAMLLoadWarning: calling yaml.load() without Loader=... is deprecated, as the default Loader is unsafe. Please read https://msg.pyyaml.org/load for full details.\n",
      "  defaults = yaml.load(f)\n"
     ]
    }
   ],
   "source": [
    "import numpy as np\n",
    "import pygrib\n",
    "import matplotlib.pyplot as plt\n",
    "from mpl_toolkits.basemap import Basemap\n",
    "import pandas as pd\n",
    "import time\n",
    "import xarray as xr"
   ]
  },
  {
   "cell_type": "code",
   "execution_count": 37,
   "metadata": {},
   "outputs": [],
   "source": [
    "temp_ave = np.zeros((15,161,291))\n",
    "temp_ave = np.ma.masked_array(temp_ave)\n",
    "prcp_ave = np.zeros((15,161,291))\n",
    "prcp_ave = np.ma.masked_array(prcp_ave)\n",
    "\n",
    "for yl in range(15):\n",
    "    temp_year = pygrib.open('./alaska_data/temp_{0}.grib'.format((2002+yl))) \n",
    "    prcp_year = pygrib.open('./alaska_data/prcp_{0}.grib'.format((2002+yl))) \n",
    "    n = temp_year.messages\n",
    "    temp = np.zeros((n,161,291))\n",
    "    temp = np.ma.masked_array(temp)\n",
    "    prcp = np.zeros((int(np.array([i for i in range(9,n,8)]).shape[0]),161,291))\n",
    "    prcp = np.ma.masked_array(prcp)\n",
    "    for i in range(1,n+1):\n",
    "        temp[i-1,:,:] = temp_year.message(i).values\n",
    "        \n",
    "    for i in range(9,n,8):\n",
    "        prcp[int((i-9)/8),:,:] = prcp_year.message(i).values\n",
    "        \n",
    "    temp_ave[yl,:,:] = temp.mean(axis=0)\n",
    "    prcp_ave[yl,:,:] = prcp.mean(axis=0)\n",
    "    \n",
    "    temp_year.close()\n",
    "    prcp_year.close()\n"
   ]
  },
  {
   "cell_type": "code",
   "execution_count": 43,
   "metadata": {},
   "outputs": [],
   "source": [
    "temp_ave = xr.DataArray(temp_ave)\n",
    "temp_ave.name = 'temp'  \n",
    "temp_ave.to_netcdf('./alaska_data/EOF/temp_annual_mean.nc')\n",
    "prcp_ave = xr.DataArray(prcp_ave)\n",
    "prcp_ave.name = 'prcp'  \n",
    "prcp_ave.to_netcdf('./alaska_data/EOF/prcp_annual_mean.nc')"
   ]
  },
  {
   "cell_type": "code",
   "execution_count": 45,
   "metadata": {},
   "outputs": [
    {
     "name": "stderr",
     "output_type": "stream",
     "text": [
      "/home/mmfire/anaconda3/lib/python3.6/site-packages/xarray/core/nanops.py:140: RuntimeWarning: Mean of empty slice\n",
      "  return np.nanmean(a, axis=axis, dtype=dtype)\n"
     ]
    }
   ],
   "source": [
    "vpd_ave = np.zeros((15,161,291))\n",
    "vpd_ave = np.ma.masked_array(vpd_ave)\n",
    "\n",
    "for yl in range(15):\n",
    "    ds = xr.open_dataset('./alaska_data/VPD/vpd_{0}.nc'.format((2002+yl)))\n",
    "    vpd = ds.vpd\n",
    "    ds.close()\n",
    "    \n",
    "    vpd_ave[yl,:,:] = vpd.mean(axis=0)\n",
    "    \n",
    "vpd_ave = xr.DataArray(vpd_ave)\n",
    "vpd_ave.name = 'vpd'  \n",
    "vpd_ave.to_netcdf('./alaska_data/EOF/vpd_annual_mean.nc')"
   ]
  },
  {
   "cell_type": "code",
   "execution_count": 38,
   "metadata": {},
   "outputs": [],
   "source": [
    "temp_mon = np.zeros((12*15,161,291))\n",
    "temp_mon = np.ma.masked_array(temp_mon)\n",
    "prcp_mon = np.zeros((12*15,161,291))\n",
    "prcp_mon = np.ma.masked_array(prcp_mon)\n",
    "\n",
    "mondays = np.array([0,31,28,31,30,31,30,31,31,30,31,30,31])\n",
    "mondays = mondays.cumsum()\n",
    "mondays_l = np.array([0,31,29,31,30,31,30,31,31,30,31,30,31])\n",
    "mondays_l = mondays_l.cumsum()\n",
    "for yl in range(15):\n",
    "    temp_year = pygrib.open('./alaska_data/temp_{0}.grib'.format((2002+yl))) \n",
    "    prcp_year = pygrib.open('./alaska_data/prcp_{0}.grib'.format((2002+yl))) \n",
    "    n = temp_year.messages\n",
    "    temp = np.zeros((n,161,291))\n",
    "    temp = np.ma.masked_array(temp)\n",
    "    prcp = np.zeros((int(np.array([i for i in range(9,n,8)]).shape[0]),161,291))\n",
    "    prcp = np.ma.masked_array(prcp)\n",
    "    for i in range(1,n+1):\n",
    "        temp[i-1,:,:] = temp_year.message(i).values\n",
    "        \n",
    "    for i in range(9,n,8):\n",
    "        prcp[int((i-9)/8),:,:] = prcp_year.message(i).values\n",
    "        \n",
    "    if (2002+yl) % 4 == 0:\n",
    "        days = mondays_l\n",
    "    else:\n",
    "        days = mondays\n",
    "    \n",
    "    temp_d = np.array([temp[i*8:(i+1)*8,:,:].mean(axis=0) for i in range(days[-1])])\n",
    "    temp_mon[int(yl*12):int((yl+1)*12), :, :] = np.array([temp_d[days[i]:days[i+1],:,:].mean(axis=0) for i in range(12)])\n",
    "    \n",
    "    days_p = days\n",
    "    days_p[-1] = days_p[-1] - 1\n",
    "    prcp_mon[int(yl*12):int((yl+1)*12), :, :] = np.array([prcp[days_p[i]:days_p[i+1],:,:].mean(axis=0) for i in range(12)])\n",
    "    \n",
    "    \n",
    "    temp_year.close()\n",
    "    prcp_year.close()\n",
    "\n",
    "temp_mon = xr.DataArray(temp_mon)\n",
    "temp_mon.name = 'temp'  \n",
    "temp_mon.to_netcdf('./alaska_data/EOF/temp_monthly_mean.nc')\n",
    "prcp_mon = xr.DataArray(prcp_mon)\n",
    "prcp_mon.name = 'prcp'  \n",
    "prcp_mon.to_netcdf('./alaska_data/EOF/prcp_monthly_mean.nc')"
   ]
  },
  {
   "cell_type": "code",
   "execution_count": 39,
   "metadata": {},
   "outputs": [],
   "source": [
    "vpd_mon = np.zeros((12*15,161,291))\n",
    "vpd_mon = np.ma.masked_array(vpd_mon)\n",
    "\n",
    "mondays = np.array([0,31,28,31,30,31,30,31,31,30,31,30,31])\n",
    "mondays = mondays.cumsum()\n",
    "mondays_l = np.array([0,31,29,31,30,31,30,31,31,30,31,30,31])\n",
    "mondays_l = mondays_l.cumsum()\n",
    "\n",
    "for yl in range(15):\n",
    "    ds = xr.open_dataset('./alaska_data/VPD/vpd_{0}.nc'.format((2002+yl)))\n",
    "    vpd = ds.vpd.values\n",
    "    ds.close()\n",
    "    \n",
    "    if (2002+yl) % 4 == 0:\n",
    "        days = mondays_l\n",
    "    else:\n",
    "        days = mondays\n",
    "    \n",
    "    vpd_d = np.array([vpd[i*8:(i+1)*8,:,:].mean(axis=0) for i in range(days[-1])])\n",
    "    vpd_mon[int(yl*12):int((yl+1)*12), :, :] = np.array([vpd[days[i]:days[i+1],:,:].mean(axis=0) for i in range(12)])\n",
    "    \n",
    "    \n",
    "vpd_mon = xr.DataArray(vpd_mon)\n",
    "vpd_mon.name = 'vpd'  \n",
    "vpd_mon.to_netcdf('./alaska_data/EOF/vpd_monthly_mean.nc')"
   ]
  },
  {
   "cell_type": "code",
   "execution_count": 3,
   "metadata": {},
   "outputs": [],
   "source": [
    "temp_year = pygrib.open('./alaska_data/temp_2002.grib')\n",
    "grib = temp_year.message(1)\n",
    "mask = grib.values.mask"
   ]
  },
  {
   "cell_type": "code",
   "execution_count": 8,
   "metadata": {},
   "outputs": [],
   "source": [
    "ds = xr.open_dataset('./alaska_data/EOF/temp_monthly_mean.nc')\n",
    "temp = ds.temp\n",
    "ds.close()\n",
    "temp1 = np.ma.masked_array(np.zeros((180,161,291)))\n",
    "for i in range(180):\n",
    "    temp1[i,:,:] = np.ma.masked_where(mask, temp[i,:,:])"
   ]
  },
  {
   "cell_type": "code",
   "execution_count": 11,
   "metadata": {},
   "outputs": [],
   "source": [
    "temp1 = xr.DataArray(temp1)\n",
    "temp1.name = 'temp'  \n",
    "temp1.to_netcdf('./alaska_data/EOF/tempma_monthly_mean.nc')"
   ]
  },
  {
   "cell_type": "code",
   "execution_count": 12,
   "metadata": {},
   "outputs": [],
   "source": [
    "ds = xr.open_dataset('./alaska_data/EOF/prcp_monthly_mean.nc')\n",
    "prcp = ds.prcp\n",
    "ds.close()\n",
    "temp1 = np.ma.masked_array(np.zeros((180,161,291)))\n",
    "for i in range(180):\n",
    "    temp1[i,:,:] = np.ma.masked_where(mask, prcp[i,:,:])"
   ]
  },
  {
   "cell_type": "code",
   "execution_count": 13,
   "metadata": {},
   "outputs": [],
   "source": [
    "temp1 = xr.DataArray(temp1)\n",
    "temp1.name = 'prcp'  \n",
    "temp1.to_netcdf('./alaska_data/EOF/prcpma_monthly_mean.nc')"
   ]
  },
  {
   "cell_type": "code",
   "execution_count": 21,
   "metadata": {},
   "outputs": [],
   "source": [
    "prcp_mon = np.zeros((12*15,161,291))\n",
    "prcp_mon = np.ma.masked_array(prcp_mon)\n",
    "\n",
    "mondays = np.array([0,31,28,31,30,31,30,31,31,30,31,30,31])\n",
    "mondays = mondays.cumsum()\n",
    "mondays_l = np.array([0,31,29,31,30,31,30,31,31,30,31,30,31])\n",
    "mondays_l = mondays_l.cumsum()\n",
    "for yl in range(15):\n",
    "    prcp_year = pygrib.open('./alaska_data/prcp_{0}.grib'.format((2002+yl))) \n",
    "    n = prcp_year.messages\n",
    "    prcp = np.zeros((int(np.array([i for i in range(9,n,8)]).shape[0]),161,291))\n",
    "    prcp = np.ma.masked_array(prcp)\n",
    "    for i in range(9,n,8):\n",
    "        prcp[int((i-9)/8),:,:] = prcp_year.message(i).values\n",
    "        \n",
    "    if (2002+yl) % 4 == 0:\n",
    "        days = mondays_l\n",
    "    else:\n",
    "        days = mondays\n",
    "    \n",
    "    days_p = days\n",
    "    days_p[-1] = days_p[-1] - 1\n",
    "    prcp_mon[int(yl*12):int((yl+1)*12), :, :] = np.array([prcp[days_p[i]:days_p[i+1],:,:].sum(axis=0) for i in range(12)])\n",
    "    \n",
    "    prcp_year.close()\n",
    "\n",
    "prcp_mon = xr.DataArray(prcp_mon)\n",
    "prcp_mon.name = 'prcp'  \n",
    "prcp_mon.to_netcdf('./alaska_data/EOF/prcp_monthly_accum.nc')"
   ]
  },
  {
   "cell_type": "code",
   "execution_count": 22,
   "metadata": {},
   "outputs": [],
   "source": [
    "ds = xr.open_dataset('./alaska_data/EOF/prcp_monthly_accum.nc')\n",
    "prcp = ds.prcp\n",
    "ds.close()\n",
    "temp1 = np.ma.masked_array(np.zeros((180,161,291)))\n",
    "for i in range(180):\n",
    "    temp1[i,:,:] = np.ma.masked_where(mask, prcp[i,:,:])\n",
    "    \n",
    "temp1 = xr.DataArray(temp1)\n",
    "temp1.name = 'prcp'  \n",
    "temp1.to_netcdf('./alaska_data/EOF/prcpma_monthly_accum.nc')"
   ]
  },
  {
   "cell_type": "code",
   "execution_count": 10,
   "metadata": {},
   "outputs": [
    {
     "data": {
      "text/plain": [
       "<matplotlib.colorbar.Colorbar at 0x2b18e218eef0>"
      ]
     },
     "execution_count": 10,
     "metadata": {},
     "output_type": "execute_result"
    },
    {
     "data": {
      "image/png": "[encoded data removed]",
      "text/plain": [
       "<Figure size 432x288 with 2 Axes>"
      ]
     },
     "metadata": {
      "needs_background": "light"
     },
     "output_type": "display_data"
    }
   ],
   "source": [
    "ds = xr.open_dataset('./alaska_data/EOF/temp_interp.nc')\n",
    "temp = ds.temp.values\n",
    "ds.close()\n",
    "temp = temp[:,:,:].mean(axis=0)\n",
    "plt.contourf(temp)\n",
    "plt.colorbar()"
   ]
  },
  {
   "cell_type": "code",
   "execution_count": 7,
   "metadata": {},
   "outputs": [
    {
     "data": {
      "text/plain": [
       "(masked_array(\n",
       "   data=[[--, --, --, ..., --, --, --],\n",
       "         [--, --, --, ..., --, --, --],\n",
       "         [--, --, --, ..., --, --, --],\n",
       "         ...,\n",
       "         [--, --, --, ..., --, --, --],\n",
       "         [--, --, --, ..., --, --, --],\n",
       "         [--, --, --, ..., --, --, --]],\n",
       "   mask=[[ True,  True,  True, ...,  True,  True,  True],\n",
       "         [ True,  True,  True, ...,  True,  True,  True],\n",
       "         [ True,  True,  True, ...,  True,  True,  True],\n",
       "         ...,\n",
       "         [ True,  True,  True, ...,  True,  True,  True],\n",
       "         [ True,  True,  True, ...,  True,  True,  True],\n",
       "         [ True,  True,  True, ...,  True,  True,  True]],\n",
       "   fill_value=9999.0), array([[73. , 73. , 73. , ..., 73. , 73. , 73. ],\n",
       "        [72.9, 72.9, 72.9, ..., 72.9, 72.9, 72.9],\n",
       "        [72.8, 72.8, 72.8, ..., 72.8, 72.8, 72.8],\n",
       "        ...,\n",
       "        [57.2, 57.2, 57.2, ..., 57.2, 57.2, 57.2],\n",
       "        [57.1, 57.1, 57.1, ..., 57.1, 57.1, 57.1],\n",
       "        [57. , 57. , 57. , ..., 57. , 57. , 57. ]]), array([[-169. , -168.9, -168.8, ..., -140.2, -140.1, -140. ],\n",
       "        [-169. , -168.9, -168.8, ..., -140.2, -140.1, -140. ],\n",
       "        [-169. , -168.9, -168.8, ..., -140.2, -140.1, -140. ],\n",
       "        ...,\n",
       "        [-169. , -168.9, -168.8, ..., -140.2, -140.1, -140. ],\n",
       "        [-169. , -168.9, -168.8, ..., -140.2, -140.1, -140. ],\n",
       "        [-169. , -168.9, -168.8, ..., -140.2, -140.1, -140. ]]))"
      ]
     },
     "execution_count": 7,
     "metadata": {},
     "output_type": "execute_result"
    }
   ],
   "source": [
    "# yl=0\n",
    "# temp_year = pygrib.open('./alaska_data/temp_{0}.grib'.format((2002+yl)))\n",
    "temp_year.message(1).data()"
   ]
  }
 ],
 "metadata": {
  "kernelspec": {
   "display_name": "Python 3",
   "language": "python",
   "name": "python3"
  },
  "language_info": {
   "codemirror_mode": {
    "name": "ipython",
    "version": 3
   },
   "file_extension": ".py",
   "mimetype": "text/x-python",
   "name": "python",
   "nbconvert_exporter": "python",
   "pygments_lexer": "ipython3",
   "version": "3.6.9"
  }
 },
 "nbformat": 4,
 "nbformat_minor": 2
}
