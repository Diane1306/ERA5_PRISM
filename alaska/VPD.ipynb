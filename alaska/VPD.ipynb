{
 "cells": [
  {
   "cell_type": "code",
   "execution_count": 72,
   "metadata": {},
   "outputs": [],
   "source": [
    "import numpy as np\n",
    "import xarray as xr\n",
    "import pygrib\n",
    "import matplotlib.pyplot as plt\n",
    "from mpl_toolkits.basemap import Basemap\n",
    "import pandas as pd\n",
    "from scipy.constants import convert_temperature\n",
    "import pytz\n",
    "from datetime import datetime\n",
    "import time\n",
    "from metpy import calc\n",
    "from metpy.units import units\n",
    "import matplotlib as mpl\n",
    "mpl.rc(\"savefig\", dpi=300)"
   ]
  },
  {
   "cell_type": "code",
   "execution_count": 16,
   "metadata": {},
   "outputs": [],
   "source": [
    "def calc_vpd_p(t, r):\n",
    "    a = 21.874\n",
    "    b = 7.66\n",
    "    vpsat = 611*np.exp((a*(t-273.16)/(t-b)))\n",
    "    return vpsat*(1 - r)/100\n",
    "\n",
    "def calc_vpd_n(t, r):\n",
    "    a = 17.269\n",
    "    b = 35.86\n",
    "    vpsat = 611*np.exp((a*(t-273.16)/(t-b)))    \n",
    "    return vpsat*(1 - r)/100"
   ]
  },
  {
   "cell_type": "code",
   "execution_count": 43,
   "metadata": {},
   "outputs": [
    {
     "data": {
      "text/plain": [
       "0.8655240535736084"
      ]
     },
     "execution_count": 43,
     "metadata": {},
     "output_type": "execute_result"
    }
   ],
   "source": [
    "for yl in range(15):\n",
    "    temp_year = pygrib.open('./alaska_data/temp_{0}.grib'.format((2002+yl))) \n",
    "    dew_year = pygrib.open('./alaska_data/2m_dewpoint_{0}.grib'.format((2002+yl)))\n",
    "    n = temp_year.messages\n",
    "    VPD = np.zeros((n,161,291))\n",
    "    VPD = np.ma.masked_array(VPD)\n",
    "    \n",
    "    for i in range(1,n+1):\n",
    "        temp = temp_year.message(i).values\n",
    "        Temp = convert_temperature(temp, 'Kelvin', 'Celsius')\n",
    "        dew = dew_year.message(i).values\n",
    "        dew = convert_temperature(dew, 'Kelvin', 'Celsius')\n",
    "        rh = np.array([calc.relative_humidity_from_dewpoint(units.Quantity(Temp, 'celsius'), units.Quantity(dew, 'celsius'))])[0,:]\n",
    "        vpd = np.where(temp>=273.16, calc_vpd_p(temp,rh), calc_vpd_n(temp,rh))\n",
    "        VPD[i-1,:,:] = np.ma.masked_where(temp.mask, vpd)\n",
    "        \n",
    "    VPD = xr.DataArray(VPD)\n",
    "    VPD.name = 'vpd'  \n",
    "    VPD.to_netcdf('./alaska_data/VPD/vpd_{0}.nc'.format((2002+yl)))\n",
    "    temp_year.close()\n",
    "    dew_year.close()"
   ]
  },
  {
   "cell_type": "code",
   "execution_count": null,
   "metadata": {},
   "outputs": [],
   "source": []
  },
  {
   "cell_type": "code",
   "execution_count": null,
   "metadata": {},
   "outputs": [],
   "source": []
  },
  {
   "cell_type": "code",
   "execution_count": null,
   "metadata": {},
   "outputs": [],
   "source": []
  },
  {
   "cell_type": "code",
   "execution_count": null,
   "metadata": {},
   "outputs": [],
   "source": []
  },
  {
   "cell_type": "code",
   "execution_count": null,
   "metadata": {},
   "outputs": [],
   "source": []
  },
  {
   "cell_type": "code",
   "execution_count": null,
   "metadata": {},
   "outputs": [],
   "source": []
  }
 ],
 "metadata": {
  "kernelspec": {
   "display_name": "Python 3",
   "language": "python",
   "name": "python3"
  },
  "language_info": {
   "codemirror_mode": {
    "name": "ipython",
    "version": 3
   },
   "file_extension": ".py",
   "mimetype": "text/x-python",
   "name": "python",
   "nbconvert_exporter": "python",
   "pygments_lexer": "ipython3",
   "version": "3.6.9"
  }
 },
 "nbformat": 4,
 "nbformat_minor": 2
}
