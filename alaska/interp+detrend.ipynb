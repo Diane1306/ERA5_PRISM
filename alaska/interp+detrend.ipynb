{
 "cells": [
  {
   "cell_type": "code",
   "execution_count": 33,
   "metadata": {},
   "outputs": [],
   "source": [
    "import numpy as np\n",
    "import matplotlib.pyplot as plt\n",
    "import xarray as xr\n",
    "import pygrib\n",
    "from scipy.interpolate import interp2d\n",
    "from sklearn import linear_model\n",
    "clf = linear_model.LinearRegression()\n",
    "from scipy.stats import pearsonr"
   ]
  },
  {
   "cell_type": "code",
   "execution_count": 3,
   "metadata": {},
   "outputs": [],
   "source": [
    "ds = xr.open_dataset('./alaska_data/EOF/prcpma_monthly_accum.nc')\n",
    "prcp = ds.prcp.values\n",
    "ds.close()\n",
    "ds = xr.open_dataset('./alaska_data/EOF/tempma_monthly_mean.nc')\n",
    "temp = ds.temp.values\n",
    "ds.close()\n",
    "ds = xr.open_dataset('./alaska_data/EOF/vpd_monthly_mean.nc')\n",
    "vpd = ds.vpd.values\n",
    "ds.close()"
   ]
  },
  {
   "cell_type": "code",
   "execution_count": 3,
   "metadata": {},
   "outputs": [],
   "source": [
    "grib = pygrib.open('./alaska_data/temp_2001.grib')\n",
    "[lat, lon] = grib.message(1).latlons()\n",
    "flag = grib.message(1).values.mask"
   ]
  },
  {
   "cell_type": "code",
   "execution_count": 42,
   "metadata": {},
   "outputs": [],
   "source": [
    "fm = interp2d(lon1, lat1, flag[17:-14,10:], kind='cubic')\n",
    "mask_ip = fm(gridx, gridy)\n",
    "mask_ip = np.where(mask_ip > 0.5, 1, 0)\n",
    "\n",
    "lat1 = lat[17:-14,0]\n",
    "lon1 = lon[0,10:]"
   ]
  },
  {
   "cell_type": "code",
   "execution_count": 53,
   "metadata": {},
   "outputs": [],
   "source": [
    "gridx = np.arange(-168, -139.99, 0.01)\n",
    "gridy = np.arange(71.3, 58.39, -0.01)"
   ]
  },
  {
   "cell_type": "code",
   "execution_count": 108,
   "metadata": {},
   "outputs": [],
   "source": [
    "t = 156\n",
    "x = 1291\n",
    "y = 2801\n",
    "temp_ip = np.zeros((t, x, y))\n",
    "prcp_ip = np.zeros((t, x, y))\n",
    "vpd_ip = np.zeros((t, x, y))\n",
    "for i in range(12, 168):\n",
    "    data1 = temp[i,17:-14,10:]\n",
    "    data1 = np.nan_to_num(data1,nan=np.nanmean(data1))\n",
    "    f1 = interp2d(lon1, lat1, data1, kind='cubic')\n",
    "    temp_ip[i-12,:,:] = f1(gridx, gridy)\n",
    "    temp_ip[i-12,:,:] = np.where(mask_ip != 1, temp_ip[i-12,:,:], np.nan)\n",
    "    \n",
    "    data2 = prcp[i,17:-14,10:]\n",
    "    data2 = np.nan_to_num(data2,nan=np.nanmean(data2))\n",
    "    f2 = interp2d(lon1, lat1, data2, kind='cubic')\n",
    "    prcp_ip[i-12,:,:] = f2(gridx, gridy)\n",
    "    prcp_ip[i-12,:,:] = np.where(mask_ip != 1, prcp_ip[i-12,:,:], np.nan)\n",
    "    \n",
    "    data3 = vpd[i,17:-14,10:]\n",
    "    data3 = np.nan_to_num(data3,nan=np.nanmean(data3))\n",
    "    f3 = interp2d(lon1, lat1, data3, kind='cubic')\n",
    "    vpd_ip[i-12,:,:] = f3(gridx, gridy)\n",
    "    vpd_ip[i-12,:,:] = np.where(mask_ip != 1, vpd_ip[i-12,:,:], np.nan)"
   ]
  },
  {
   "cell_type": "code",
   "execution_count": 128,
   "metadata": {},
   "outputs": [],
   "source": [
    "Lat = np.zeros((t, x, y))\n",
    "Lon = np.zeros((t, x, y))\n",
    "for i in range(t):\n",
    "    Lon[i,:,:], Lat[i,:,:] = np.meshgrid(gridx, gridy[::-1])"
   ]
  },
  {
   "cell_type": "code",
   "execution_count": 129,
   "metadata": {},
   "outputs": [],
   "source": [
    "out1 = xr.Dataset({ \"temp\": ((\"time\",\"south_north\", \"west_east\"), temp_ip)}, \n",
    "                          coords={\"lat\": ((\"time\", \"south_north\", \"west_east\"), Lat), \n",
    "                                  \"lon\": ((\"time\", \"south_north\", \"west_east\"), Lon)})\n",
    "out1.to_netcdf('./alaska_data/EOF/temp_interp.nc')\n",
    "\n",
    "out2 = xr.Dataset({ \"prcp\": ((\"time\",\"south_north\", \"west_east\"), prcp_ip)}, \n",
    "                          coords={\"lat\": ((\"time\", \"south_north\", \"west_east\"), Lat), \n",
    "                                  \"lon\": ((\"time\", \"south_north\", \"west_east\"), Lon)})\n",
    "out2.to_netcdf('./alaska_data/EOF/prcp_interp.nc')\n",
    "\n",
    "out3 = xr.Dataset({ \"vpd\": ((\"time\",\"south_north\", \"west_east\"), vpd_ip)}, \n",
    "                          coords={\"lat\": ((\"time\", \"south_north\", \"west_east\"), Lat), \n",
    "                                  \"lon\": ((\"time\", \"south_north\", \"west_east\"), Lon)})\n",
    "out3.to_netcdf('./alaska_data/EOF/vpd_interp.nc')"
   ]
  },
  {
   "cell_type": "code",
   "execution_count": 7,
   "metadata": {},
   "outputs": [],
   "source": [
    "# plt.contourf(lon,lat,vpd[7,:,:])\n",
    "# plt.colorbar()"
   ]
  },
  {
   "cell_type": "code",
   "execution_count": 51,
   "metadata": {},
   "outputs": [],
   "source": [
    "# ds = xr.open_dataset('./alaska_data/EOF/NIR_interp.nc')\n",
    "# nir0 = ds.NIR_TS.values[7,:,::-1].T\n",
    "# mask = np.where(nir0!=nir0[0,0], False, True)\n",
    "# mask_ip = np.where(mask_ip == 0 , False, True)\n",
    "# mm = np.logical_or(mask,mask_ip)\n",
    "# plt.contourf(mm)\n",
    "# mmm = np.where(mm, np.nan, 1)\n",
    "# plt.contourf(mmm)\n",
    "# a = xr.DataArray(mm)\n",
    "# a.name = 'mask'\n",
    "# a.to_netcdf('./alaska_data/EOF/mask.nc')"
   ]
  },
  {
   "cell_type": "code",
   "execution_count": 7,
   "metadata": {},
   "outputs": [],
   "source": [
    "ds = xr.open_dataset('./alaska_data/EOF/temp_interp.nc')\n",
    "temp = ds.temp.values\n",
    "ds.close()\n",
    "ds = xr.open_dataset('./alaska_data/EOF/prcp_interp.nc')\n",
    "prcp = ds.prcp.values\n",
    "ds.close()\n",
    "ds = xr.open_dataset('./alaska_data/EOF/vpd_interp.nc')\n",
    "vpd = ds.vpd.values\n",
    "ds.close()\n",
    "ds = xr.open_dataset('./alaska_data/EOF/NIR_Interp.nc')\n",
    "nir = ds.NIRvTS.values\n",
    "ds.close()\n",
    "ds = xr.open_dataset('./alaska_data/EOF/mask.nc')\n",
    "mm = ds.mask.values\n",
    "ds.close()"
   ]
  },
  {
   "cell_type": "code",
   "execution_count": 52,
   "metadata": {},
   "outputs": [],
   "source": [
    "t = 156\n",
    "x = 1291\n",
    "y = 2801\n",
    "temp_ip = np.zeros((t, x, y))\n",
    "prcp_ip = np.zeros((t, x, y))\n",
    "vpd_ip = np.zeros((t, x, y))\n",
    "for i in range(t):\n",
    "    temp_ip[i,:,:] = np.where(mm, np.nan, temp[i,:,:])\n",
    "    prcp_ip[i,:,:] = np.where(mm, np.nan, prcp[i,:,:])\n",
    "    vpd_ip[i,:,:] = np.where(mm, np.nan, vpd[i,:,:])"
   ]
  },
  {
   "cell_type": "code",
   "execution_count": 8,
   "metadata": {},
   "outputs": [],
   "source": [
    "t = 156\n",
    "x = 1291\n",
    "y = 2801\n",
    "nir_ip = np.zeros((t, x, y))\n",
    "for i in range(t):\n",
    "    nir_ip[i,:,:] = np.where(mm, np.nan, nir[i,:,::-1].T)"
   ]
  },
  {
   "cell_type": "code",
   "execution_count": 9,
   "metadata": {},
   "outputs": [],
   "source": [
    "x = np.arange(-168, -139.99, 0.01)\n",
    "y = np.arange(58.39, 71.3, 0.01)\n",
    "[Lon,Lat] = np.meshgrid(x,y)\n",
    "out1 = xr.Dataset({ \"temp\": ((\"time\",\"south_north\", \"west_east\"), temp_ip)}, \n",
    "                          coords={\"lat\": ((\"south_north\", \"west_east\"), Lat), \n",
    "                                  \"lon\": ((\"south_north\", \"west_east\"), Lon)})\n",
    "out1.to_netcdf('./alaska_data/EOF/temp_interp.nc')\n",
    "\n",
    "out2 = xr.Dataset({ \"prcp\": ((\"time\",\"south_north\", \"west_east\"), prcp_ip)}, \n",
    "                          coords={\"lat\": ((\"south_north\", \"west_east\"), Lat), \n",
    "                                  \"lon\": ((\"south_north\", \"west_east\"), Lon)})\n",
    "out2.to_netcdf('./alaska_data/EOF/prcp_interp.nc')\n",
    "\n",
    "out3 = xr.Dataset({ \"vpd\": ((\"time\",\"south_north\", \"west_east\"), vpd_ip)}, \n",
    "                          coords={\"lat\": ((\"south_north\", \"west_east\"), Lat), \n",
    "                                  \"lon\": ((\"south_north\", \"west_east\"), Lon)})\n",
    "out3.to_netcdf('./alaska_data/EOF/vpd_interp.nc')\n",
    "\n",
    "out4 = xr.Dataset({ \"nir\": ((\"time\",\"south_north\", \"west_east\"), nir_ip)}, \n",
    "                          coords={\"lat\": ((\"south_north\", \"west_east\"), Lat), \n",
    "                                  \"lon\": ((\"south_north\", \"west_east\"), Lon)})\n",
    "out4.to_netcdf('./alaska_data/EOF/nir_interp.nc')"
   ]
  },
  {
   "cell_type": "code",
   "execution_count": 7,
   "metadata": {},
   "outputs": [],
   "source": [
    "ds = xr.open_dataset('./alaska_data/EOF/temp_interp.nc')\n",
    "temp = ds.temp.values\n",
    "ds.close()\n",
    "ds = xr.open_dataset('./alaska_data/EOF/prcp_interp.nc')\n",
    "prcp = ds.prcp.values\n",
    "ds.close()\n",
    "ds = xr.open_dataset('./alaska_data/EOF/vpd_interp.nc')\n",
    "vpd = ds.vpd.values\n",
    "ds.close()\n",
    "ds = xr.open_dataset('./alaska_data/EOF/temp_interp.nc')\n",
    "lat = ds.lat.values\n",
    "lon = ds.lon.values\n",
    "ds.close()"
   ]
  },
  {
   "cell_type": "code",
   "execution_count": 42,
   "metadata": {},
   "outputs": [],
   "source": [
    "t = 156\n",
    "x = 1291\n",
    "y = 2801\n",
    "temp_tr = np.zeros((12,x,y))\n",
    "prcp_tr = np.zeros((12,x,y))\n",
    "vpd_tr = np.zeros((12,x,y))\n",
    "for i in range(12):\n",
    "    temp_tr[i,:,:] = temp[i::12,:,:].mean(axis=0)\n",
    "    prcp_tr[i,:,:] = prcp[i::12,:,:].mean(axis=0)\n",
    "    vpd_tr[i,:,:] = vpd[i::12,:,:].mean(axis=0)"
   ]
  },
  {
   "cell_type": "code",
   "execution_count": 47,
   "metadata": {},
   "outputs": [],
   "source": [
    "temp_ip_detr = np.zeros((t, x, y))\n",
    "prcp_ip_detr = np.zeros((t, x, y))\n",
    "vpd_ip_detr = np.zeros((t, x, y))\n",
    "for i in range(12):\n",
    "    for j in range(13):\n",
    "        temp_ip_detr[int(i+12*j),:,:] = temp[int(i+12*j),:,:] - temp_tr[i,:,:]\n",
    "        prcp_ip_detr[int(i+12*j),:,:] = prcp[int(i+12*j),:,:] - prcp_tr[i,:,:]\n",
    "        vpd_ip_detr[int(i+12*j),:,:] = vpd[int(i+12*j),:,:] - vpd_tr[i,:,:]"
   ]
  },
  {
   "cell_type": "code",
   "execution_count": 49,
   "metadata": {},
   "outputs": [],
   "source": [
    "x = np.arange(-168, -139.99, 0.01)\n",
    "y = np.arange(58.39, 71.3, 0.01)\n",
    "[Lon,Lat] = np.meshgrid(x,y)\n",
    "out1 = xr.Dataset({ \"temp\": ((\"time\",\"south_north\", \"west_east\"), temp_ip_detr)}, \n",
    "                          coords={\"lat\": ((\"south_north\", \"west_east\"), Lat), \n",
    "                                  \"lon\": ((\"south_north\", \"west_east\"), Lon)})\n",
    "out1.to_netcdf('./alaska_data/EOF/temp_detr.nc')\n",
    "\n",
    "out2 = xr.Dataset({ \"prcp\": ((\"time\",\"south_north\", \"west_east\"), prcp_ip_detr)}, \n",
    "                          coords={\"lat\": ((\"south_north\", \"west_east\"), Lat), \n",
    "                                  \"lon\": ((\"south_north\", \"west_east\"), Lon)})\n",
    "out2.to_netcdf('./alaska_data/EOF/prcp_detr.nc')\n",
    "\n",
    "out3 = xr.Dataset({ \"vpd\": ((\"time\",\"south_north\", \"west_east\"), vpd_ip_detr)}, \n",
    "                          coords={\"lat\": ((\"south_north\", \"west_east\"), Lat), \n",
    "                                  \"lon\": ((\"south_north\", \"west_east\"), Lon)})\n",
    "out3.to_netcdf('./alaska_data/EOF/vpd_detr.nc')\n"
   ]
  },
  {
   "cell_type": "code",
   "execution_count": 59,
   "metadata": {},
   "outputs": [],
   "source": [
    "ds = xr.open_dataset('./alaska_data/EOF/temp_interp.nc')\n",
    "temp = ds.temp.values\n",
    "ds.close()\n",
    "ds = xr.open_dataset('./alaska_data/EOF/prcp_interp.nc')\n",
    "prcp = ds.prcp.values\n",
    "ds.close()\n",
    "ds = xr.open_dataset('./alaska_data/EOF/vpd_interp.nc')\n",
    "vpd = ds.vpd.values\n",
    "ds.close()\n",
    "ds = xr.open_dataset('./alaska_data/EOF/temp_interp.nc')\n",
    "lat = ds.lat.values\n",
    "lon = ds.lon.values\n",
    "ds.close()"
   ]
  },
  {
   "cell_type": "code",
   "execution_count": 60,
   "metadata": {},
   "outputs": [],
   "source": [
    "x = 1291\n",
    "y = 2801\n",
    "temp_gm = np.zeros((x,y))\n",
    "vpd_gm = np.zeros((x,y))\n",
    "tt = np.zeros((13,x,y))\n",
    "vv = np.zeros((13,x,y))\n",
    "for i in range(13):\n",
    "    tt[i,:,:] = temp[(5+i*12):(8+i*12),:,:].mean(axis=0)\n",
    "    vv[i,:,:] = vpd[(5+i*12):(8+i*12),:,:].mean(axis=0)\n",
    "    \n",
    "temp_gm = tt.mean(axis=0)\n",
    "vpd_gm = vv.mean(axis=0)\n",
    "\n",
    "# x = 1291\n",
    "# y = 2801\n",
    "# nir_gm = np.zeros((x,y))\n",
    "# nn = np.zeros((13,x,y))\n",
    "# for i in range(13):\n",
    "#     nn[i,:,:] = nir[(5+i*12):(8+i*12),:,:].max(axis=0)\n",
    "    \n",
    "# nir_gm = nn.mean(axis=0)"
   ]
  },
  {
   "cell_type": "code",
   "execution_count": 25,
   "metadata": {},
   "outputs": [],
   "source": [
    "prcp_ya = np.zeros((x,y))\n",
    "prcp_ya = (prcp[8:(8+12*12),:,:].sum(axis=0))/12"
   ]
  },
  {
   "cell_type": "code",
   "execution_count": 28,
   "metadata": {},
   "outputs": [],
   "source": [
    "x = np.arange(-168, -139.99, 0.01)\n",
    "y = np.arange(58.39, 71.3, 0.01)\n",
    "[Lon,Lat] = np.meshgrid(x,y)\n",
    "out = xr.Dataset({ \"temp\": ((\"south_north\", \"west_east\"), temp_gm),\n",
    "                  \"vpd\": ((\"south_north\", \"west_east\"), vpd_gm),\n",
    "                  \"prcp\": ((\"south_north\", \"west_east\"), 1000*prcp_ya)}, \n",
    "                          coords={\"lat\": ((\"south_north\", \"west_east\"), Lat), \n",
    "                                  \"lon\": ((\"south_north\", \"west_east\"), Lon)})\n",
    "out.to_netcdf('./alaska_data/EOF/olsdata.nc')"
   ]
  },
  {
   "cell_type": "code",
   "execution_count": 52,
   "metadata": {},
   "outputs": [],
   "source": [
    "x = 1291\n",
    "y = 2801\n",
    "\n",
    "temp_tt = np.reshape(temp_gm, (x*y), order='F')\n",
    "temp_tt = np.ma.masked_array(temp_tt, np.isnan(temp_tt))\n",
    "ocean = temp_tt.mask\n",
    "land = ~ocean\n",
    "temp_tt = temp_tt[land]\n",
    "\n",
    "prcp_tt = np.reshape(prcp_ya, (x*y), order='F')\n",
    "prcp_tt = np.ma.masked_array(prcp_tt, np.isnan(prcp_tt))\n",
    "ocean = prcp_tt.mask\n",
    "land = ~ocean\n",
    "prcp_tt = prcp_tt[land]\n",
    "\n",
    "vpd_tt = np.reshape(vpd_gm, (x*y), order='F')\n",
    "vpd_tt = np.ma.masked_array(vpd_tt, np.isnan(vpd_tt))\n",
    "ocean = vpd_tt.mask\n",
    "land = ~ocean\n",
    "vpd_tt = vpd_tt[land]\n"
   ]
  },
  {
   "cell_type": "code",
   "execution_count": 58,
   "metadata": {},
   "outputs": [
    {
     "data": {
      "text/plain": [
       "(0.7173475084044314, 0.0)"
      ]
     },
     "execution_count": 58,
     "metadata": {},
     "output_type": "execute_result"
    }
   ],
   "source": [
    "pearsonr(vpd_tt,prcp_tt)"
   ]
  },
  {
   "cell_type": "code",
   "execution_count": null,
   "metadata": {},
   "outputs": [],
   "source": []
  },
  {
   "cell_type": "code",
   "execution_count": null,
   "metadata": {},
   "outputs": [],
   "source": []
  }
 ],
 "metadata": {
  "kernelspec": {
   "display_name": "Python 3",
   "language": "python",
   "name": "python3"
  },
  "language_info": {
   "codemirror_mode": {
    "name": "ipython",
    "version": 3
   },
   "file_extension": ".py",
   "mimetype": "text/x-python",
   "name": "python",
   "nbconvert_exporter": "python",
   "pygments_lexer": "ipython3",
   "version": "3.6.9"
  }
 },
 "nbformat": 4,
 "nbformat_minor": 2
}
