{
 "cells": [
  {
   "cell_type": "code",
   "execution_count": 1,
   "metadata": {},
   "outputs": [],
   "source": [
    "from osgeo import gdal\n",
    "import matplotlib.pyplot as plt\n",
    "from matplotlib.ticker import MaxNLocator\n",
    "from matplotlib.colors import BoundaryNorm\n",
    "from cartopy.feature import NaturalEarthFeature\n",
    "import cartopy.crs as ccrs\n",
    "import cartopy\n",
    "from matplotlib.colors import LinearSegmentedColormap\n",
    "import numpy as np\n",
    "import rasterio as rio"
   ]
  },
  {
   "cell_type": "code",
   "execution_count": 43,
   "metadata": {},
   "outputs": [],
   "source": [
    "Image = gdal.Open('./USDA_Cropland_Layer/2019_30m_cdls.img')\n",
    "DaIm = Image.ReadAsArray()\n",
    "y, x = DaIm.shape"
   ]
  },
  {
   "cell_type": "code",
   "execution_count": 4,
   "metadata": {},
   "outputs": [],
   "source": [
    "# lat = np.linspace(47.9580, 23.1496, y)\n",
    "# lon = np.linspace(-127.8873, -74.1585, x)\n",
    "\n",
    "# latmax, latmin, lonmax, lonmin = (49, 34, -75, -105)\n",
    "# latmaxloc = np.argmin(abs(lat-latmax))\n",
    "# latminloc = np.argmin(abs(lat-latmin))\n",
    "# lonmaxloc = np.argmin(abs(lon-lonmax))\n",
    "# lonminloc = np.argmin(abs(lon-lonmin))\n",
    "\n",
    "# Lon, Lat = np.meshgrid(lon[lonminloc:lonmaxloc:10], lat[latmaxloc:latminloc:10])"
   ]
  },
  {
   "cell_type": "code",
   "execution_count": 5,
   "metadata": {},
   "outputs": [],
   "source": [
    "# data = DaIm[latmaxloc:latminloc:10, lonminloc:lonmaxloc:10]\n",
    "# datatemp = data*1.\n",
    "# data = np.where(abs(data-66)<.1, 67, data)\n",
    "# data = np.where(abs(data-67)<.1, 69, data)\n",
    "# data = np.where(abs(data-68)<.1, 71, data)\n",
    "# data = np.where(abs(data-69)<.1, 73, data)\n",
    "# data = np.where(abs(data-77)<.1, 82, data)\n",
    "# data = np.where(abs(data-220)<.1, 226, data)\n",
    "# data = np.where(abs(data-223)<.1, 230, data)\n",
    "# data = data - datatemp"
   ]
  },
  {
   "cell_type": "code",
   "execution_count": 57,
   "metadata": {},
   "outputs": [],
   "source": [
    "# fruit = ['cherries', 'peaches', 'apples', 'grapes', 'pears', 'plums', 'apricots']\n",
    "# extent = [-96.2, -79.35, 40.7, 49.52]\n",
    "# fig = plt.figure(figsize=(8, 6))\n",
    "# ax = plt.axes(projection=ccrs.AlbersEqualArea(np.mean(extent[:2]), np.mean(extent[2:])))\n",
    "# ax.set_extent(extent)\n",
    "# ax.add_feature(cartopy.feature.BORDERS, lw=.1, linestyle=':')\n",
    "# ax.add_feature(cartopy.feature.COASTLINE, lw=.1, linestyle=':')\n",
    "# ax.add_feature(cartopy.feature.STATES.with_scale('10m'), lw=.5)\n",
    "# ax.add_feature(cartopy.feature.LAKES, edgecolor='black', facecolor='white', lw=.3)\n",
    "# ax.gridlines(color=\"black\", linestyle=\"dotted\", lw=.1)\n",
    "\n",
    "# cmap_name = '7color'\n",
    "# colors= ['magenta', 'peachpuff', 'red', 'darkorchid', 'orange', 'pink', 'gold']\n",
    "# cmap = LinearSegmentedColormap.from_list(cmap_name, colors, N=7)\n",
    "# levels = MaxNLocator(nbins=7).tick_values(1, 8)\n",
    "# norm = BoundaryNorm(levels, ncolors=cmap.N, clip=True)\n",
    "\n",
    "# pc = plt.pcolormesh(Lon, Lat, np.where(data>0, data, np.nan), cmap=cmap, norm=norm, transform=ccrs.PlateCarree())\n",
    "# plt.title('Fruit Tree Distribution in 2019', fontsize=15, fontweight='bold')\n",
    "\n",
    "# fig.subplots_adjust(bottom=0, top=0.95, left=0.05, right=0.9)\n",
    "# cb_ax = fig.add_axes([0.905, 0.068, 0.02, 0.82])\n",
    "# cbar = fig.colorbar(pc, cax=cb_ax, ticks=np.arange(1.5, 30))\n",
    "# cbar.ax.set_yticklabels(fruit, fontweight='bold')"
   ]
  },
  {
   "cell_type": "code",
   "execution_count": 11,
   "metadata": {},
   "outputs": [],
   "source": [
    "# lat = np.linspace(47.9580, 23.1496, y)\n",
    "# lon = np.linspace(-127.8873, -74.1585, x)\n",
    "\n",
    "# Lon, Lat = np.meshgrid(lon[::100], lat[::100])\n",
    "\n",
    "# data = DaIm[::100, ::100]\n",
    "# datatemp = data*1.\n",
    "# data = np.where(abs(data-66)<.1, 67, data)\n",
    "# data = np.where(abs(data-67)<.1, 69, data)\n",
    "# data = np.where(abs(data-68)<.1, 71, data)\n",
    "# data = np.where(abs(data-69)<.1, 73, data)\n",
    "# data = np.where(abs(data-77)<.1, 82, data)\n",
    "# data = np.where(abs(data-220)<.1, 226, data)\n",
    "# data = np.where(abs(data-223)<.1, 230, data)\n",
    "# data = data - datatemp\n",
    "\n",
    "# fruit = ['cherries', 'peaches', 'apples', 'grapes', 'pears', 'plums', 'apricots']\n",
    "# extent = [-120, -70, 23.3, 50.5]\n",
    "# fig = plt.figure(figsize=(8, 6))\n",
    "# ax = plt.axes(projection=ccrs.AlbersEqualArea(np.mean(extent[:2]), np.mean(extent[2:])))\n",
    "# ax.set_extent(extent)\n",
    "# ax.add_feature(cartopy.feature.BORDERS, lw=.1, linestyle=':')\n",
    "# ax.add_feature(cartopy.feature.COASTLINE, lw=.1, linestyle=':')\n",
    "# ax.add_feature(cartopy.feature.STATES.with_scale('10m'), lw=.5)\n",
    "# ax.add_feature(cartopy.feature.LAKES, edgecolor='black', facecolor='white', lw=.3)\n",
    "# ax.gridlines(color=\"black\", linestyle=\"dotted\", lw=.1)\n",
    "\n",
    "# cmap_name = '7color'\n",
    "# colors= ['magenta', 'peachpuff', 'red', 'darkorchid', 'orange', 'pink', 'gold']\n",
    "# cmap = LinearSegmentedColormap.from_list(cmap_name, colors, N=7)\n",
    "# levels = MaxNLocator(nbins=7).tick_values(1, 8)\n",
    "# norm = BoundaryNorm(levels, ncolors=cmap.N, clip=True)\n",
    "\n",
    "# pc = plt.pcolormesh(Lon, Lat, np.where(data>0, data, np.nan), cmap=cmap, norm=norm, transform=ccrs.PlateCarree())\n",
    "# plt.title('Fruit Tree Distribution in 2019', fontsize=15, fontweight='bold')\n",
    "\n",
    "# fig.subplots_adjust(bottom=0, top=0.95, left=0.05, right=0.9)\n",
    "# cb_ax = fig.add_axes([0.905, 0.14, 0.02, 0.68])\n",
    "# cbar = fig.colorbar(pc, cax=cb_ax, ticks=np.arange(1.5, 9))\n",
    "# cbar.ax.set_yticklabels(fruit, fontweight='bold')"
   ]
  },
  {
   "cell_type": "code",
   "execution_count": 2,
   "metadata": {},
   "outputs": [],
   "source": [
    "Image = gdal.Open('./USDA_Cropland_Layer/CDL_2019_009.tif')\n",
    "DaIm = Image.ReadAsArray()"
   ]
  },
  {
   "cell_type": "code",
   "execution_count": 35,
   "metadata": {},
   "outputs": [],
   "source": [
    "data = DaIm[::5, ::5]\n",
    "datatemp = data*1\n",
    "data = np.where(abs(data-66)<.1, 67, data)\n",
    "data = np.where(abs(data-67)<.1, 69, data)\n",
    "data = np.where(abs(data-68)<.1, 71, data)\n",
    "data = np.where(abs(data-69)<.1, 73, data)\n",
    "data = np.where(abs(data-77)<.1, 82, data)\n",
    "data = np.where(abs(data-220)<.1, 226, data)\n",
    "data = np.where(abs(data-223)<.1, 230, data)\n",
    "data = data - datatemp"
   ]
  },
  {
   "cell_type": "code",
   "execution_count": 36,
   "metadata": {},
   "outputs": [],
   "source": [
    "import osr\n",
    "tif = rio.open('./USDA_Cropland_Layer/CDL_2019_009.tif')\n",
    "bag = gdal.Open('./USDA_Cropland_Layer/CDL_2019_009.tif')\n",
    "bag_gtrn = bag.GetGeoTransform()\n",
    "bag_proj = bag.GetProjectionRef()\n",
    "bag_srs = osr.SpatialReference(bag_proj)\n",
    "geo_srs =bag_srs.CloneGeogCS()                 # new srs obj to go from x,y -> φ,λ\n",
    "transform = osr.CoordinateTransformation( bag_srs, geo_srs)\n",
    "\n",
    "left, bottom, right, top = tif.bounds\n",
    "latl, lonl = transform.TransformPoint(left, bottom)[:2]\n",
    "latr, lonr = transform.TransformPoint(right, top)[:2]\n",
    "\n",
    "y, x = DaIm.shape\n",
    "lon = np.linspace(lonl, lonr, x)[::5]\n",
    "lat = np.linspace(latl, latr, y)[::5]\n",
    "Lon, Lat = np.meshgrid(lon, lat)"
   ]
  },
  {
   "cell_type": "code",
   "execution_count": 44,
   "metadata": {},
   "outputs": [],
   "source": [
    "fruit = ['cherries', 'peaches', 'apples', 'grapes', 'pears', 'plums', 'apricots']\n",
    "extent = [-105, -75, 34, 49]\n",
    "fig = plt.figure(figsize=(8, 6))\n",
    "ax = plt.axes(projection=ccrs.AlbersEqualArea(np.mean(extent[:2]), np.mean(extent[2:])))\n",
    "ax.set_extent(extent)\n",
    "ax.add_feature(cartopy.feature.BORDERS, lw=.1, linestyle=':')\n",
    "ax.add_feature(cartopy.feature.COASTLINE, lw=.1, linestyle=':')\n",
    "ax.add_feature(cartopy.feature.STATES.with_scale('10m'), lw=.5)\n",
    "ax.add_feature(cartopy.feature.LAKES, edgecolor='black', facecolor='white', lw=.3)\n",
    "ax.gridlines(color=\"black\", linestyle=\"dotted\", lw=.1)\n",
    "\n",
    "cmap_name = '7color'\n",
    "colors= ['magenta', 'peachpuff', 'red', 'darkorchid', 'orange', 'pink', 'gold']\n",
    "cmap = LinearSegmentedColormap.from_list(cmap_name, colors, N=7)\n",
    "levels = MaxNLocator(nbins=7).tick_values(1, 8)\n",
    "norm = BoundaryNorm(levels, ncolors=cmap.N, clip=True)\n",
    "\n",
    "pc = plt.pcolormesh(Lon, Lat, np.where(data>0, data, np.nan), cmap=cmap, norm=norm, transform=ccrs.PlateCarree())\n",
    "plt.title('Fruit Tree Distribution in 2019', fontsize=15, fontweight='bold')\n",
    "\n",
    "fig.subplots_adjust(bottom=0, top=0.95, left=0.05, right=0.9)\n",
    "cb_ax = fig.add_axes([0.905, 0.12, 0.02, 0.72])\n",
    "cbar = fig.colorbar(pc, cax=cb_ax, ticks=np.arange(1.5, 9))\n",
    "cbar.ax.set_yticklabels(fruit, fontweight='bold')\n",
    "plt.savefig('./plot/Composite/CropLandLayer.png')"
   ]
  },
  {
   "cell_type": "code",
   "execution_count": 33,
   "metadata": {},
   "outputs": [],
   "source": [
    "# fruit = ['cherries', 'peaches', 'apples', 'grapes', 'pears', 'plums', 'apricots']\n",
    "# fig = plt.figure(figsize=(8, 6))\n",
    "# cmap_name = '7color'\n",
    "# colors= ['magenta', 'peachpuff', 'red', 'darkorchid', 'orange', 'pink', 'gold']\n",
    "# cmap = LinearSegmentedColormap.from_list(cmap_name, colors, N=8)\n",
    "# levels = MaxNLocator(nbins=7).tick_values(1, 8)\n",
    "# norm = BoundaryNorm(levels, ncolors=cmap.N, clip=True)\n",
    "# pc = plt.pcolormesh(Lon, Lat, np.where(data>0, data, np.nan), cmap=cmap, norm=norm)\n",
    "# cb_ax = fig.add_axes([0.905, 0.125, 0.02, 0.75])\n",
    "# cbar = plt.colorbar(pc, cax=cb_ax, ticks=np.arange(1.5, 9))\n",
    "# cbar.ax.set_yticklabels(fruit, fontweight='bold')"
   ]
  },
  {
   "cell_type": "code",
   "execution_count": null,
   "metadata": {},
   "outputs": [],
   "source": []
  },
  {
   "cell_type": "code",
   "execution_count": null,
   "metadata": {},
   "outputs": [],
   "source": []
  }
 ],
 "metadata": {
  "kernelspec": {
   "display_name": "Python 3",
   "language": "python",
   "name": "python3"
  },
  "language_info": {
   "codemirror_mode": {
    "name": "ipython",
    "version": 3
   },
   "file_extension": ".py",
   "mimetype": "text/x-python",
   "name": "python",
   "nbconvert_exporter": "python",
   "pygments_lexer": "ipython3",
   "version": "3.8.3"
  }
 },
 "nbformat": 4,
 "nbformat_minor": 4
}
