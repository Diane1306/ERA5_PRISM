{
 "cells": [
  {
   "cell_type": "code",
   "execution_count": 1,
   "metadata": {},
   "outputs": [],
   "source": [
    "from osgeo import gdal\n",
    "import matplotlib.pyplot as plt\n",
    "from matplotlib.ticker import MaxNLocator\n",
    "from matplotlib.colors import BoundaryNorm\n",
    "from cartopy.feature import NaturalEarthFeature\n",
    "import cartopy.crs as ccrs\n",
    "import cartopy\n",
    "from matplotlib.colors import LinearSegmentedColormap\n",
    "import numpy as np\n",
    "import rasterio as rio"
   ]
  },
  {
   "cell_type": "code",
   "execution_count": null,
   "metadata": {},
   "outputs": [],
   "source": [
    "# Image = gdal.Open('./USDA_Cropland_Layer/2019_30m_cdls.img')\n",
    "# DaIm = Image.ReadAsArray()\n",
    "# y, x = DaIm.shape"
   ]
  },
  {
   "cell_type": "code",
   "execution_count": 4,
   "metadata": {},
   "outputs": [],
   "source": [
    "# lat = np.linspace(47.9580, 23.1496, y)\n",
    "# lon = np.linspace(-127.8873, -74.1585, x)\n",
    "\n",
    "# latmax, latmin, lonmax, lonmin = (49, 34, -75, -105)\n",
    "# latmaxloc = np.argmin(abs(lat-latmax))\n",
    "# latminloc = np.argmin(abs(lat-latmin))\n",
    "# lonmaxloc = np.argmin(abs(lon-lonmax))\n",
    "# lonminloc = np.argmin(abs(lon-lonmin))\n",
    "\n",
    "# Lon, Lat = np.meshgrid(lon[lonminloc:lonmaxloc:10], lat[latmaxloc:latminloc:10])"
   ]
  },
  {
   "cell_type": "code",
   "execution_count": 5,
   "metadata": {},
   "outputs": [],
   "source": [
    "# data = DaIm[latmaxloc:latminloc:10, lonminloc:lonmaxloc:10]\n",
    "# datatemp = data*1.\n",
    "# data = np.where(abs(data-66)<.1, 67, data)\n",
    "# data = np.where(abs(data-67)<.1, 69, data)\n",
    "# data = np.where(abs(data-68)<.1, 71, data)\n",
    "# data = np.where(abs(data-69)<.1, 73, data)\n",
    "# data = np.where(abs(data-77)<.1, 82, data)\n",
    "# data = np.where(abs(data-220)<.1, 226, data)\n",
    "# data = np.where(abs(data-223)<.1, 230, data)\n",
    "# data = data - datatemp"
   ]
  },
  {
   "cell_type": "code",
   "execution_count": 57,
   "metadata": {},
   "outputs": [],
   "source": [
    "# fruit = ['cherries', 'peaches', 'apples', 'grapes', 'pears', 'plums', 'apricots']\n",
    "# extent = [-96.2, -79.35, 40.7, 49.52]\n",
    "# fig = plt.figure(figsize=(8, 6))\n",
    "# ax = plt.axes(projection=ccrs.AlbersEqualArea(np.mean(extent[:2]), np.mean(extent[2:])))\n",
    "# ax.set_extent(extent)\n",
    "# ax.add_feature(cartopy.feature.BORDERS, lw=.1, linestyle=':')\n",
    "# ax.add_feature(cartopy.feature.COASTLINE, lw=.1, linestyle=':')\n",
    "# ax.add_feature(cartopy.feature.STATES.with_scale('10m'), lw=.5)\n",
    "# ax.add_feature(cartopy.feature.LAKES, edgecolor='black', facecolor='white', lw=.3)\n",
    "# ax.gridlines(color=\"black\", linestyle=\"dotted\", lw=.1)\n",
    "\n",
    "# cmap_name = '7color'\n",
    "# colors= ['magenta', 'peachpuff', 'red', 'darkorchid', 'orange', 'pink', 'gold']\n",
    "# cmap = LinearSegmentedColormap.from_list(cmap_name, colors, N=7)\n",
    "# levels = MaxNLocator(nbins=7).tick_values(1, 8)\n",
    "# norm = BoundaryNorm(levels, ncolors=cmap.N, clip=True)\n",
    "\n",
    "# pc = plt.pcolormesh(Lon, Lat, np.where(data>0, data, np.nan), cmap=cmap, norm=norm, transform=ccrs.PlateCarree())\n",
    "# plt.title('Fruit Tree Distribution in 2019', fontsize=15, fontweight='bold')\n",
    "\n",
    "# fig.subplots_adjust(bottom=0, top=0.95, left=0.05, right=0.9)\n",
    "# cb_ax = fig.add_axes([0.905, 0.068, 0.02, 0.82])\n",
    "# cbar = fig.colorbar(pc, cax=cb_ax, ticks=np.arange(1.5, 30))\n",
    "# cbar.ax.set_yticklabels(fruit, fontweight='bold')"
   ]
  },
  {
   "cell_type": "code",
   "execution_count": 11,
   "metadata": {},
   "outputs": [],
   "source": [
    "# lat = np.linspace(47.9580, 23.1496, y)\n",
    "# lon = np.linspace(-127.8873, -74.1585, x)\n",
    "\n",
    "# Lon, Lat = np.meshgrid(lon[::100], lat[::100])\n",
    "\n",
    "# data = DaIm[::100, ::100]\n",
    "# datatemp = data*1.\n",
    "# data = np.where(abs(data-66)<.1, 67, data)\n",
    "# data = np.where(abs(data-67)<.1, 69, data)\n",
    "# data = np.where(abs(data-68)<.1, 71, data)\n",
    "# data = np.where(abs(data-69)<.1, 73, data)\n",
    "# data = np.where(abs(data-77)<.1, 82, data)\n",
    "# data = np.where(abs(data-220)<.1, 226, data)\n",
    "# data = np.where(abs(data-223)<.1, 230, data)\n",
    "# data = data - datatemp\n",
    "\n",
    "# fruit = ['cherries', 'peaches', 'apples', 'grapes', 'pears', 'plums', 'apricots']\n",
    "# extent = [-120, -70, 23.3, 50.5]\n",
    "# fig = plt.figure(figsize=(8, 6))\n",
    "# ax = plt.axes(projection=ccrs.AlbersEqualArea(np.mean(extent[:2]), np.mean(extent[2:])))\n",
    "# ax.set_extent(extent)\n",
    "# ax.add_feature(cartopy.feature.BORDERS, lw=.1, linestyle=':')\n",
    "# ax.add_feature(cartopy.feature.COASTLINE, lw=.1, linestyle=':')\n",
    "# ax.add_feature(cartopy.feature.STATES.with_scale('10m'), lw=.5)\n",
    "# ax.add_feature(cartopy.feature.LAKES, edgecolor='black', facecolor='white', lw=.3)\n",
    "# ax.gridlines(color=\"black\", linestyle=\"dotted\", lw=.1)\n",
    "\n",
    "# cmap_name = '7color'\n",
    "# colors= ['magenta', 'peachpuff', 'red', 'darkorchid', 'orange', 'pink', 'gold']\n",
    "# cmap = LinearSegmentedColormap.from_list(cmap_name, colors, N=7)\n",
    "# levels = MaxNLocator(nbins=7).tick_values(1, 8)\n",
    "# norm = BoundaryNorm(levels, ncolors=cmap.N, clip=True)\n",
    "\n",
    "# pc = plt.pcolormesh(Lon, Lat, np.where(data>0, data, np.nan), cmap=cmap, norm=norm, transform=ccrs.PlateCarree())\n",
    "# plt.title('Fruit Tree Distribution in 2019', fontsize=15, fontweight='bold')\n",
    "\n",
    "# fig.subplots_adjust(bottom=0, top=0.95, left=0.05, right=0.9)\n",
    "# cb_ax = fig.add_axes([0.905, 0.14, 0.02, 0.68])\n",
    "# cbar = fig.colorbar(pc, cax=cb_ax, ticks=np.arange(1.5, 9))\n",
    "# cbar.ax.set_yticklabels(fruit, fontweight='bold')"
   ]
  },
  {
   "cell_type": "code",
   "execution_count": 2,
   "metadata": {},
   "outputs": [],
   "source": [
    "DaStates = []\n",
    "flagS = []\n",
    "yyS = []\n",
    "xxS = []\n",
    "states = ['MI', 'WI', 'IL', 'IN', 'OH', 'MN', 'IA', 'MO', 'ND', 'SD', 'NE', 'KS', 'PA', 'NY', 'OK', 'KY', 'WV']\n",
    "for si in range(17):\n",
    "    Image = gdal.Open(f'./USDA_Cropland_Layer/CDL_2019_{states[si]}.tif')\n",
    "    DaIm = Image.ReadAsArray()\n",
    "\n",
    "    data = DaIm[::-1, :]\n",
    "    datatemp = data*1\n",
    "    data = np.where(abs(data-66)<.1, 67, data)\n",
    "    data = np.where(abs(data-67)<.1, 69, data)\n",
    "    data = np.where(abs(data-68)<.1, 71, data)\n",
    "    data = np.where(abs(data-69)<.1, 73, data)\n",
    "    data = np.where(abs(data-77)<.1, 82, data)\n",
    "    data = np.where(abs(data-220)<.1, 226, data)\n",
    "    data = np.where(abs(data-223)<.1, 230, data)\n",
    "    data = data - datatemp\n",
    "    \n",
    "    temp = np.where(data>0, data, np.nan)\n",
    "    yy, xx = temp.shape\n",
    "    temp = temp.reshape(yy*xx)\n",
    "    temp = np.ma.masked_array(temp, np.isnan(temp))\n",
    "    nonflag = temp.mask\n",
    "    flag = ~nonflag\n",
    "    temp = temp[flag]\n",
    "    \n",
    "    flagS.append(flag)\n",
    "    yyS.append(yy)\n",
    "    xxS.append(xx)\n",
    "    DaStates.append(temp)"
   ]
  },
  {
   "cell_type": "code",
   "execution_count": 3,
   "metadata": {},
   "outputs": [
    {
     "data": {
      "text/plain": [
       "0"
      ]
     },
     "execution_count": 3,
     "metadata": {},
     "output_type": "execute_result"
    }
   ],
   "source": [
    "import osr\n",
    "wgs84_wkt = \"\"\"\n",
    "GEOGCS[\"WGS 84\",\n",
    "    DATUM[\"WGS_1984\",\n",
    "        SPHEROID[\"WGS 84\",6378137,298.257223563,\n",
    "            AUTHORITY[\"EPSG\",\"7030\"]],\n",
    "        AUTHORITY[\"EPSG\",\"6326\"]],\n",
    "    PRIMEM[\"Greenwich\",0,\n",
    "        AUTHORITY[\"EPSG\",\"8901\"]],\n",
    "    UNIT[\"degree\",0.01745329251994328,\n",
    "        AUTHORITY[\"EPSG\",\"9122\"]],\n",
    "    AUTHORITY[\"EPSG\",\"4326\"]]\"\"\"\n",
    "\n",
    "new_cs = osr.SpatialReference()\n",
    "new_cs.ImportFromWkt(wgs84_wkt)"
   ]
  },
  {
   "cell_type": "code",
   "execution_count": 4,
   "metadata": {},
   "outputs": [],
   "source": [
    "SLon = []\n",
    "SLat = []\n",
    "for si in range(17):\n",
    "    tif = rio.open(f'./USDA_Cropland_Layer/CDL_2019_{states[si]}.tif')\n",
    "    bag = gdal.Open(f'./USDA_Cropland_Layer/CDL_2019_{states[si]}.tif')\n",
    "    bag_gtrn = bag.GetGeoTransform()\n",
    "    bag_proj = bag.GetProjectionRef()\n",
    "    bag_srs = osr.SpatialReference(bag_proj)\n",
    "    old_cs= osr.SpatialReference()\n",
    "    old_cs.ImportFromWkt(bag.GetProjectionRef())\n",
    "\n",
    "    # create a transform object to convert between coordinate systems\n",
    "    transform = osr.CoordinateTransformation(old_cs, new_cs) \n",
    "\n",
    "    left, bottom, right, top = tif.bounds\n",
    "    latl, lonl = transform.TransformPoint(left, bottom)[:2]\n",
    "    latr, lonr = transform.TransformPoint(right, top)[:2]\n",
    "\n",
    "    y, x = bag.RasterYSize, bag.RasterXSize\n",
    "    lon = np.linspace(lonl, lonr, x)[::]\n",
    "    lat = np.linspace(latl, latr, y)[::]\n",
    "    Lon, Lat = np.meshgrid(lon, lat)\n",
    "    \n",
    "    Lon = Lon.reshape(yyS[si]*xxS[si])[flagS[si]]\n",
    "    Lat = Lat.reshape(yyS[si]*xxS[si])[flagS[si]]\n",
    "    \n",
    "    SLon.append(Lon)\n",
    "    SLat.append(Lat)\n",
    "\n",
    "# X = np.zeros((4674, 4460))\n",
    "# Y = np.zeros((4674, 4460))\n",
    "# for i in range(4674):\n",
    "#     for j in range(4460):\n",
    "#         X[i, j], Y[i, j] = tif.xy(i*5, j*5)"
   ]
  },
  {
   "cell_type": "code",
   "execution_count": 5,
   "metadata": {},
   "outputs": [],
   "source": [
    "colors= ['magenta', 'peachpuff', 'red', 'darkorchid', 'orange', 'pink', 'gold']\n",
    "fruit = ['Cherries', 'Peaches', 'Apples', 'Grapes', 'Pears', 'Plums', 'Apricots']\n",
    "extent = [-105, -75, 34, 49]\n",
    "\n",
    "for fi in range(7):\n",
    "    fig = plt.figure(figsize=(8, 6))\n",
    "    ax = plt.axes(projection=ccrs.AlbersEqualArea(-96, 23))\n",
    "    ax.set_extent(extent)\n",
    "    ax.add_feature(cartopy.feature.BORDERS, lw=.1, linestyle=':')\n",
    "    ax.add_feature(cartopy.feature.COASTLINE, lw=.1, linestyle=':')\n",
    "    ax.add_feature(cartopy.feature.STATES.with_scale('10m'), lw=.5)\n",
    "    ax.add_feature(cartopy.feature.LAKES, edgecolor='black', facecolor='white', lw=.3)\n",
    "    ax.gridlines(color=\"black\", linestyle=\"dotted\", lw=.1)\n",
    "\n",
    "    for si in range(17):\n",
    "        plt.scatter(SLon[si]-0.4, SLat[si], np.where(DaStates[si]==fi+1, 1, np.nan), c=colors[fi], alpha=1, transform=ccrs.PlateCarree())\n",
    "\n",
    "    plt.title(f'{fruit[fi]} Distribution in 2019', fontsize=15, fontweight='bold')\n",
    "    plt.savefig(f'./plot/Composite/Distribution_{fruit[fi]}.png')\n",
    "    plt.close()"
   ]
  },
  {
   "cell_type": "code",
   "execution_count": 61,
   "metadata": {},
   "outputs": [],
   "source": [
    "si = 0\n",
    "fruit = ['cherries', 'peaches', 'apples', 'grapes', 'pears', 'plums', 'apricots']\n",
    "fig = plt.figure(figsize=(8, 6))\n",
    "cmap_name = '7color'\n",
    "colors= ['magenta', 'peachpuff', 'red', 'darkorchid', 'orange', 'pink', 'gold']\n",
    "cmap = LinearSegmentedColormap.from_list(cmap_name, colors, N=8)\n",
    "levels = MaxNLocator(nbins=7).tick_values(1, 8)\n",
    "norm = BoundaryNorm(levels, ncolors=cmap.N, clip=True)\n",
    "pc = plt.pcolormesh(Lon, Lat, np.where(DaStates[si]>0, DaStates[si], np.nan), cmap=cmap, norm=norm)\n",
    "cb_ax = fig.add_axes([0.905, 0.125, 0.02, 0.75])\n",
    "cbar = plt.colorbar(pc, cax=cb_ax, ticks=np.arange(1.5, 9))\n",
    "cbar.ax.set_yticklabels(fruit, fontweight='bold')"
   ]
  },
  {
   "cell_type": "code",
   "execution_count": 164,
   "metadata": {},
   "outputs": [],
   "source": []
  },
  {
   "cell_type": "code",
   "execution_count": null,
   "metadata": {},
   "outputs": [],
   "source": []
  },
  {
   "cell_type": "code",
   "execution_count": null,
   "metadata": {},
   "outputs": [],
   "source": []
  },
  {
   "cell_type": "code",
   "execution_count": null,
   "metadata": {},
   "outputs": [],
   "source": []
  },
  {
   "cell_type": "code",
   "execution_count": 166,
   "metadata": {},
   "outputs": [],
   "source": [
    "\n"
   ]
  }
 ],
 "metadata": {
  "kernelspec": {
   "display_name": "Python 3",
   "language": "python",
   "name": "python3"
  },
  "language_info": {
   "codemirror_mode": {
    "name": "ipython",
    "version": 3
   },
   "file_extension": ".py",
   "mimetype": "text/x-python",
   "name": "python",
   "nbconvert_exporter": "python",
   "pygments_lexer": "ipython3",
   "version": "3.8.3"
  }
 },
 "nbformat": 4,
 "nbformat_minor": 4
}
