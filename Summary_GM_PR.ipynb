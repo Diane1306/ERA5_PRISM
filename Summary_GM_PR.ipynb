{
 "cells": [
  {
   "cell_type": "code",
   "execution_count": null,
   "metadata": {},
   "outputs": [],
   "source": [
    "import numpy as np\n",
    "import xarray as xr\n",
    "import pandas as pd\n",
    "import matplotlib.pyplot as plt\n",
    "import os\n",
    "from math import sqrt\n",
    "from sklearn.metrics import mean_squared_error as mse"
   ]
  },
  {
   "cell_type": "code",
   "execution_count": null,
   "metadata": {},
   "outputs": [],
   "source": [
    "df_el = pd.read_csv('./observation/East Lansing 5 min_crc.csv')\n",
    "df_gl = pd.read_csv('./observation/CRNH0203-2007-2018-MI_Gaylord_9_SSW_crc.csv')\n",
    "df_gr = pd.read_csv('./observation/ASOS Grand Rapids_crc.csv')\n",
    "df_ele = pd.read_csv('./observation/East Leland 5 min.csv')\n",
    "df_sh = pd.read_csv('./observation/South Haven 5 min_crc.csv')\n",
    "df_tvc = pd.read_csv('observation/ASOS Traverse City_crc_1.csv')"
   ]
  },
  {
   "cell_type": "code",
   "execution_count": null,
   "metadata": {},
   "outputs": [],
   "source": [
    "t_daymin_obs_el = df_el.groupby([df_el.YEAR,df_el.MONTH,df_el.DAY])['atmp'].min()\n",
    "t_daymin_obs_gl = df_gl.groupby([df_gl.YEAR,df_gl.MONTH,df_gl.DAY])['atmp'].min()\n",
    "t_daymin_obs_gr = df_gr.groupby([df_gr.YEAR,df_gr.MONTH,df_gr.DAY])['atmp'].min()\n",
    "t_daymin_obs_ele = df_ele.groupby([df_ele.year,df_ele.month,df_ele.day])['atmp'].min()\n",
    "t_daymin_obs_sh = df_sh.groupby([df_sh.year,df_sh.month,df_sh.day])['atmpF'].min()\n",
    "t_daymin_obs_tvc = df_tvc.groupby([df_tvc.YEAR,df_tvc.MONTH,df_tvc.DAY])['atmp'].min()\n",
    "\n",
    "t_daymin_obs = [t_daymin_obs_el,t_daymin_obs_gl,t_daymin_obs_ele,t_daymin_obs_sh,t_daymin_obs_gr,t_daymin_obs_tvc]"
   ]
  },
  {
   "cell_type": "code",
   "execution_count": null,
   "metadata": {},
   "outputs": [],
   "source": [
    "t_daymax_obs_el = df_el.groupby([df_el.YEAR,df_el.MONTH,df_el.DAY])['atmp'].max()\n",
    "t_daymax_obs_gl = df_gl.groupby([df_gl.YEAR,df_gl.MONTH,df_gl.DAY])['atmp'].max()\n",
    "t_daymax_obs_gr = df_gr.groupby([df_gr.YEAR,df_gr.MONTH,df_gr.DAY])['atmp'].max()\n",
    "t_daymax_obs_ele = df_ele.groupby([df_ele.year,df_ele.month,df_ele.day])['atmp'].max()\n",
    "t_daymax_obs_sh = df_sh.groupby([df_sh.year,df_sh.month,df_sh.day])['atmpF'].max()\n",
    "t_daymax_obs_tvc = df_tvc.groupby([df_tvc.YEAR,df_tvc.MONTH,df_tvc.DAY])['atmp'].max()\n",
    "\n",
    "t_daymax_obs = [t_daymax_obs_el,t_daymax_obs_gl,t_daymax_obs_ele,t_daymax_obs_sh,t_daymax_obs_gr,t_daymax_obs_tvc]"
   ]
  },
  {
   "cell_type": "code",
   "execution_count": null,
   "metadata": {},
   "outputs": [],
   "source": [
    "era_el = pd.read_csv('./extracted/East_lansing/East_Lansing_9km.csv')\n",
    "era_gl = pd.read_csv('./extracted/Gaylord/Gaylord_9km.csv')\n",
    "era_gr = pd.read_csv('./extracted/GRR/GRR_9km.csv')\n",
    "era_ele = pd.read_csv('./extracted/East_Leland/East_Leland_9km.csv')\n",
    "era_sh = pd.read_csv('./extracted/South_Haven/South_Haven_9km.csv')\n",
    "era_tvc = pd.read_csv('extracted/TVC/TVC_9km.csv')[:-19]\n",
    "\n",
    "\n",
    "era_gl = era_gl.drop(era_gl.index[:-98905])\n",
    "era_gl = era_gl.reset_index(drop=True)\n",
    "era_gr = era_gr.drop(era_gr.index[157751:])\n",
    "era_ele = era_ele[20424:]\n",
    "era_sh = era_sh[46104:]\n",
    "era_ele = era_ele.reset_index(drop=True)\n",
    "era_sh = era_sh.reset_index(drop=True)\n",
    "era_tvc = era_tvc.reset_index(drop=True)\n",
    "\n",
    "t_daymin_era_el = era_el.groupby([era_el.YEAR,era_el.MONTH,era_el.DAY])['atmp'].min()\n",
    "t_daymin_era_gl = era_gl.groupby([era_gl.YEAR,era_gl.MONTH,era_gl.DAY])['atmp'].min()\n",
    "t_daymin_era_gr = era_gr.groupby([era_gr.YEAR,era_gr.MONTH,era_gr.DAY])['atmp'].min()\n",
    "t_daymin_era_ele = era_ele.groupby([era_ele.YEAR,era_ele.MONTH,era_ele.DAY])['atmp'].min()\n",
    "t_daymin_era_sh = era_sh.groupby([era_sh.YEAR,era_sh.MONTH,era_sh.DAY])['atmp'].min()\n",
    "t_daymin_era_tvc = era_tvc.groupby([era_tvc.YEAR,era_tvc.MONTH,era_tvc.DAY])['atmp'].min()\n",
    "\n",
    "t_daymin_era = [t_daymin_era_el,t_daymin_era_gl,t_daymin_era_ele,t_daymin_era_sh,t_daymin_era_gr,t_daymin_era_tvc]"
   ]
  },
  {
   "cell_type": "code",
   "execution_count": null,
   "metadata": {},
   "outputs": [],
   "source": [
    "t_daymax_era_el = era_el.groupby([era_el.YEAR,era_el.MONTH,era_el.DAY])['atmp'].max()\n",
    "t_daymax_era_gl = era_gl.groupby([era_gl.YEAR,era_gl.MONTH,era_gl.DAY])['atmp'].max()\n",
    "t_daymax_era_gr = era_gr.groupby([era_gr.YEAR,era_gr.MONTH,era_gr.DAY])['atmp'].max()\n",
    "t_daymax_era_ele = era_ele.groupby([era_ele.YEAR,era_ele.MONTH,era_ele.DAY])['atmp'].max()\n",
    "t_daymax_era_sh = era_sh.groupby([era_sh.YEAR,era_sh.MONTH,era_sh.DAY])['atmp'].max()\n",
    "t_daymax_era_tvc = era_tvc.groupby([era_tvc.YEAR,era_tvc.MONTH,era_tvc.DAY])['atmp'].max()\n",
    "\n",
    "t_daymax_era = [t_daymax_era_el,t_daymax_era_gl,t_daymax_era_ele,t_daymax_era_sh,t_daymax_era_gr,t_daymax_era_tvc]"
   ]
  },
  {
   "cell_type": "code",
   "execution_count": null,
   "metadata": {},
   "outputs": [],
   "source": [
    "# [el_loc,gl_loc,ele_loc,sh_loc,gr_loc,tvc_loc]\n",
    "pr = []\n",
    "fna = ['East_Lansing_PRISM_tmin_stable_4km_19810101_20190101_42.6700_-84.4900.csv',\\\n",
    "      'Gaylord_PRISM_tmin_stable_4km_19810101_20190101_44.9100_-84.7200.csv',\\\n",
    "      'East_Leland_PRISM_tmin_stable_4km_19810101_20190101_45.0300_-85.6700.csv',\\\n",
    "      'South_Haven_PRISM_tmin_stable_4km_19810101_20190101_42.3600_-86.2900.csv',\\\n",
    "      'Grand_Rapids_PRISM_tmin_stable_4km_19810101_20190101_42.8810_-85.5230.csv',\\\n",
    "       'Traverse_City_PRISM_tmin_stable_4km_19810101_20190101_44.7420_-85.5820.csv']\n",
    "for i in range(6):\n",
    "    df = pd.read_csv('./prism/{0}'.format(fna[i]),header=[i for i in range(11)])\n",
    "    df = np.array(df)[:,0]\n",
    "    df = df[-6575:-1]\n",
    "    pr.append(df)\n",
    "pr = np.array(pr)"
   ]
  },
  {
   "cell_type": "code",
   "execution_count": null,
   "metadata": {},
   "outputs": [],
   "source": [
    "el_loc = [42.67,-84.49]\n",
    "gl_loc = [44.91,-84.72]\n",
    "ele_loc = [45.03, -85.67]\n",
    "sh_loc = [42.36, -86.29]\n",
    "gr_loc = [42.881,-85.523]\n",
    "tvc_loc = [44.742, -85.582]\n",
    "loc = np.array([el_loc,gl_loc,ele_loc,sh_loc,gr_loc,tvc_loc])\n",
    "loc_id = loc * 0\n",
    "\n",
    "ds = xr.open_dataset('./gridmet/tmmn_2001.nc')\n",
    "for i in range(6):\n",
    "    loc_id[i, 0] = np.where(abs(ds.lat.values - loc[i,0]) == np.amin(abs(ds.lat.values - loc[i,0])))[0][0]\n",
    "    loc_id[i, 1] = np.where(abs(ds.lon.values - loc[i,1]) == np.amin(abs(ds.lon.values - loc[i,1])))[0][0]\n",
    "ds.close()"
   ]
  },
  {
   "cell_type": "code",
   "execution_count": null,
   "metadata": {},
   "outputs": [],
   "source": [
    "gm = []\n",
    "for k in range(6):\n",
    "    data = np.array([])\n",
    "    for i in range(18):\n",
    "        ds = xr.open_dataset('./gridmet/tmmn_{0}.nc'.format(int(2001+i)))\n",
    "        data = np.concatenate((data,ds.air_temperature[:,int(loc_id[k,0]),int(loc_id[k,1])].data),axis=0)\n",
    "        ds.close()\n",
    "    gm.append(data)\n",
    "gm = np.array(gm)\n",
    "gm = (gm - 273.15) * (9/5) + 32.0"
   ]
  },
  {
   "cell_type": "code",
   "execution_count": null,
   "metadata": {},
   "outputs": [],
   "source": [
    "# [el_loc,gl_loc,ele_loc,sh_loc,gr_loc,tvc_loc]\n",
    "pr_dt = [1*pr[0],1*pr[1][-4122:],1*pr[2][-5723:],1*pr[3][-4653:],1*pr[4][:-1],1*pr[5][:-1]]\n",
    "gm_dt = [1*gm[0],1*gm[1][-4122:],1*gm[2][-5723:],1*gm[3][-4653:],1*gm[4][:-1],1*gm[5][:-1]]"
   ]
  },
  {
   "cell_type": "code",
   "execution_count": null,
   "metadata": {},
   "outputs": [],
   "source": [
    "import pytz\n",
    "eastern = pytz.timezone('US/Eastern')\n",
    "dff = [pd.date_range(start='1/1/2001', end='1/1/2019', freq='D')[1:].tz_localize(pytz.utc).tz_convert(eastern),\\\n",
    "      pd.date_range(start='9/19/2007', end='1/1/2019', freq='D')[1:].tz_localize(pytz.utc).tz_convert(eastern),\\\n",
    "      pd.date_range(start='5/2/2003', end='1/1/2019', freq='D')[1:].tz_localize(pytz.utc).tz_convert(eastern),\\\n",
    "      pd.date_range(start='4/6/2006', end='1/1/2019', freq='D')[1:].tz_localize(pytz.utc).tz_convert(eastern),\\\n",
    "      pd.date_range(start='1/1/2001', end='12/31/2018', freq='D')[1:].tz_localize(pytz.utc).tz_convert(eastern),\\\n",
    "      pd.date_range(start='1/1/2001', end='12/31/2018', freq='D')[1:].tz_localize(pytz.utc).tz_convert(eastern)]\n",
    "locn = ['el','gl','ele','sh','gr','tvc']\n",
    "t_daymin_obs = [t_daymin_obs_el,t_daymin_obs_gl,t_daymin_obs_ele,t_daymin_obs_sh,t_daymin_obs_gr,t_daymin_obs_tvc]\n",
    "t_daymin_diff_pr = []\n",
    "for i in range(6):\n",
    "    year = dff[i].strftime('%Y')\n",
    "    mon = dff[i].strftime('%-m')\n",
    "    day = dff[i].strftime('%-d')\n",
    "    mdiff = pd.DataFrame({'YEAR':year, 'MONTH':mon, 'DAY':day,'t_daymin_diff':np.array(pr_dt[i]-t_daymin_obs[i])})\n",
    "    mdiff = mdiff.astype(float)\n",
    "    t_daymin_diff_pr.append(np.array(mdiff.groupby([mdiff.YEAR,mdiff.MONTH])['t_daymin_diff'].mean()))"
   ]
  },
  {
   "cell_type": "code",
   "execution_count": null,
   "metadata": {},
   "outputs": [],
   "source": [
    "import pytz\n",
    "eastern = pytz.timezone('US/Eastern')\n",
    "dff = [pd.date_range(start='1/1/2001', end='1/1/2019', freq='D')[1:].tz_localize(pytz.utc).tz_convert(eastern),\\\n",
    "      pd.date_range(start='9/19/2007', end='1/1/2019', freq='D')[1:].tz_localize(pytz.utc).tz_convert(eastern),\\\n",
    "      pd.date_range(start='5/2/2003', end='1/1/2019', freq='D')[1:].tz_localize(pytz.utc).tz_convert(eastern),\\\n",
    "      pd.date_range(start='4/6/2006', end='1/1/2019', freq='D')[1:].tz_localize(pytz.utc).tz_convert(eastern),\\\n",
    "      pd.date_range(start='1/1/2001', end='12/31/2018', freq='D')[1:].tz_localize(pytz.utc).tz_convert(eastern),\\\n",
    "      pd.date_range(start='1/1/2001', end='12/31/2018', freq='D')[1:].tz_localize(pytz.utc).tz_convert(eastern)]\n",
    "locn = ['el','gl','ele','sh','gr','tvc']\n",
    "t_daymin_obs = [t_daymin_obs_el,t_daymin_obs_gl,t_daymin_obs_ele,t_daymin_obs_sh,t_daymin_obs_gr,t_daymin_obs_tvc]\n",
    "t_daymin_diff_gm = []\n",
    "for i in range(6):\n",
    "    year = dff[i].strftime('%Y')\n",
    "    mon = dff[i].strftime('%-m')\n",
    "    day = dff[i].strftime('%-d')\n",
    "    mdiff = pd.DataFrame({'YEAR':year, 'MONTH':mon, 'DAY':day,'t_daymin_diff':np.array(gm_dt[i]-t_daymin_obs[i])})\n",
    "    mdiff = mdiff.astype(float)\n",
    "    t_daymin_diff_gm.append(np.array(mdiff.groupby([mdiff.YEAR,mdiff.MONTH])['t_daymin_diff'].mean()))"
   ]
  },
  {
   "cell_type": "code",
   "execution_count": null,
   "metadata": {},
   "outputs": [],
   "source": [
    "import pytz\n",
    "eastern = pytz.timezone('US/Eastern')\n",
    "dff = [pd.date_range(start='1/1/2001', end='1/1/2019', freq='D')[1:].tz_localize(pytz.utc).tz_convert(eastern),\\\n",
    "      pd.date_range(start='9/19/2007', end='1/1/2019', freq='D')[1:].tz_localize(pytz.utc).tz_convert(eastern),\\\n",
    "      pd.date_range(start='5/2/2003', end='1/1/2019', freq='D')[1:].tz_localize(pytz.utc).tz_convert(eastern),\\\n",
    "      pd.date_range(start='4/6/2006', end='1/1/2019', freq='D')[1:].tz_localize(pytz.utc).tz_convert(eastern),\\\n",
    "      pd.date_range(start='1/1/2001', end='12/31/2018', freq='D')[1:].tz_localize(pytz.utc).tz_convert(eastern),\\\n",
    "      pd.date_range(start='1/1/2001', end='12/31/2018', freq='D')[1:].tz_localize(pytz.utc).tz_convert(eastern)]\n",
    "locn = ['el','gl','ele','sh','gr','tvc']\n",
    "t_daymin_obs = [t_daymin_obs_el,t_daymin_obs_gl,t_daymin_obs_ele,t_daymin_obs_sh,t_daymin_obs_gr,t_daymin_obs_tvc]\n",
    "t_daymin_era = [t_daymin_era_el,t_daymin_era_gl,t_daymin_era_ele,t_daymin_era_sh,t_daymin_era_gr,t_daymin_era_tvc]\n",
    "t_daymin_diff_era = []\n",
    "for i in range(6):\n",
    "    year = dff[i].strftime('%Y')\n",
    "    mon = dff[i].strftime('%-m')\n",
    "    day = dff[i].strftime('%-d')\n",
    "    mdiff = pd.DataFrame({'YEAR':year, 'MONTH':mon, 'DAY':day,'t_daymin_diff':np.array(t_daymin_era[i]-t_daymin_obs[i])})\n",
    "    mdiff = mdiff.astype(float)\n",
    "    t_daymin_diff_era.append(np.array(mdiff.groupby([mdiff.YEAR,mdiff.MONTH])['t_daymin_diff'].mean()))"
   ]
  },
  {
   "cell_type": "code",
   "execution_count": null,
   "metadata": {},
   "outputs": [],
   "source": [
    "plt.figure(figsize=(15,6))\n",
    "# [el_loc,gl_loc,ele_loc,sh_loc,gr_loc,tvc_loc]\n",
    "plt.plot(list(range(1,217)), t_daymin_diff_pr[0], 'r-o', lw=1.5, ms=4)\n",
    "plt.plot(list(range(81,217)), t_daymin_diff_pr[1], 'y-o', lw=1.5, ms=4)\n",
    "plt.plot(list(range(30,218)), t_daymin_diff_pr[2], 'b-o', lw=1.5, ms=4)\n",
    "plt.plot(list(range(65,218)), t_daymin_diff_pr[3], 'g-o', lw=1.5, ms=4)\n",
    "plt.plot(list(range(1,217)), t_daymin_diff_pr[4], 'c-o', lw=1.5, ms=4)\n",
    "plt.plot(list(range(1,217)), t_daymin_diff_pr[5], 'm-o', lw=1.5, ms=4)\n",
    "\n",
    "plt.hlines(0, 1, 217, 'k', lw=1.5)\n",
    "plt.xticks(np.arange(1, 217, step=24),['{0} Jan'.format(2*i+2001) for i in range(9)], fontweight='bold')\n",
    "plt.xlabel('Time', fontweight='bold', fontsize=13)\n",
    "plt.ylabel('Temperature (F) ', fontweight='bold', fontsize=13)\n",
    "plt.legend(['East Lansing', 'Gaylord','East Leland', 'South Haven', 'Grand Rapids', 'Traverse City'],fontsize = 13)\n",
    "plt.title('PRISM-OBS: Daily minimum temperature monthly mean (F)', fontweight='bold', fontsize=15)\n",
    "plt.savefig('./plot/Summary/prism_tmin_diff.png')"
   ]
  },
  {
   "cell_type": "code",
   "execution_count": null,
   "metadata": {},
   "outputs": [],
   "source": [
    "plt.figure(figsize=(15,6))\n",
    "# [el_loc,gl_loc,ele_loc,sh_loc,gr_loc,tvc_loc]\n",
    "plt.plot(list(range(1,217)), t_daymin_diff_gm[0], 'r-o', lw=1.5, ms=4)\n",
    "plt.plot(list(range(81,217)), t_daymin_diff_gm[1], 'y-o', lw=1.5, ms=4)\n",
    "plt.plot(list(range(30,218)), t_daymin_diff_gm[2], 'b-o', lw=1.5, ms=4)\n",
    "plt.plot(list(range(65,218)), t_daymin_diff_gm[3], 'g-o', lw=1.5, ms=4)\n",
    "plt.plot(list(range(1,217)), t_daymin_diff_gm[4], 'c-o', lw=1.5, ms=4)\n",
    "plt.plot(list(range(1,217)), t_daymin_diff_gm[5], 'm-o', lw=1.5, ms=4)\n",
    "\n",
    "plt.hlines(0, 1, 217, 'k', lw=1.5)\n",
    "plt.xticks(np.arange(1, 217, step=24),['{0} Jan'.format(2*i+2001) for i in range(9)], fontweight='bold')\n",
    "plt.xlabel('Time', fontweight='bold', fontsize=13)\n",
    "plt.ylabel('Temperature (F) ', fontweight='bold', fontsize=13)\n",
    "plt.legend(['East Lansing', 'Gaylord','East Leland', 'South Haven', 'Grand Rapids', 'Traverse City'],fontsize = 13)\n",
    "plt.title('GridMet-OBS: Daily minimum temperature monthly mean (F)', fontweight='bold', fontsize=15)\n",
    "plt.savefig('./plot/Summary/GridMet_tmin_diff.png')"
   ]
  },
  {
   "cell_type": "code",
   "execution_count": null,
   "metadata": {},
   "outputs": [],
   "source": [
    "plt.figure(figsize=(15,6))\n",
    "# [el_loc,gl_loc,ele_loc,sh_loc,gr_loc,tvc_loc]\n",
    "plt.plot(list(range(1,217)), t_daymin_diff_era[0], 'r-o', lw=1.5, ms=4)\n",
    "plt.plot(list(range(81,217)), t_daymin_diff_era[1], 'y-o', lw=1.5, ms=4)\n",
    "plt.plot(list(range(30,218)), t_daymin_diff_era[2], 'b-o', lw=1.5, ms=4)\n",
    "plt.plot(list(range(65,218)), t_daymin_diff_era[3], 'g-o', lw=1.5, ms=4)\n",
    "plt.plot(list(range(1,217)), t_daymin_diff_era[4], 'c-o', lw=1.5, ms=4)\n",
    "plt.plot(list(range(1,217)), t_daymin_diff_era[5], 'm-o', lw=1.5, ms=4)\n",
    "\n",
    "plt.hlines(0, 1, 217, 'k', lw=1.5)\n",
    "plt.xticks(np.arange(1, 217, step=24),['{0} Jan'.format(2*i+2001) for i in range(9)], fontweight='bold')\n",
    "plt.xlabel('Time', fontweight='bold', fontsize=13)\n",
    "plt.ylabel('Temperature (F) ', fontweight='bold', fontsize=13)\n",
    "plt.legend(['East Lansing', 'Gaylord','East Leland', 'South Haven', 'Grand Rapids', 'Traverse City'],fontsize = 13)\n",
    "plt.title('ERA5-OBS: Daily minimum temperature monthly mean (F)', fontweight='bold', fontsize=15)\n",
    "plt.savefig('./plot/Summary/ERA5_tmin_diff.png')"
   ]
  },
  {
   "cell_type": "code",
   "execution_count": null,
   "metadata": {},
   "outputs": [],
   "source": [
    "def rmse(df1,df2):\n",
    "    return sqrt(mse(df1[~np.isnan(df1)], df2[~np.isnan(df1)]))"
   ]
  },
  {
   "cell_type": "code",
   "execution_count": null,
   "metadata": {},
   "outputs": [],
   "source": [
    "rmse_pr = []\n",
    "rmse_gm = []\n",
    "rmse_era = []\n",
    "for i in range(6):\n",
    "    rmse_pr.append(rmse(np.array(t_daymin_obs[i]),pr_dt[i]))\n",
    "    rmse_gm.append(rmse(np.array(t_daymin_obs[i]),gm_dt[i]))\n",
    "    rmse_era.append(rmse(np.array(t_daymin_obs[i]),np.array(t_daymin_era[i])))"
   ]
  },
  {
   "cell_type": "code",
   "execution_count": null,
   "metadata": {},
   "outputs": [],
   "source": [
    "missing = []\n",
    "for i in range(6):\n",
    "    missing.append(((t_daymin_obs[i].isnull() | t_daymin_obs[i].isna()).sum() * 100 / t_daymin_obs[i].index.size).round(2))\n",
    "\n",
    "days_count = []\n",
    "for i in range(6):\n",
    "    days_count.append(t_daymin_obs[i].shape[0])"
   ]
  },
  {
   "cell_type": "code",
   "execution_count": null,
   "metadata": {},
   "outputs": [],
   "source": [
    "df_rmse = pd.DataFrame({'Station':['East Lansing', 'Gaylord','East Leland', 'South Haven', 'Grand Rapids', 'Traverse City'],\n",
    "                        'Days':days_count,\n",
    "                        'OBS missing':missing,\n",
    "                        'PRISM Tmin RMSE':[rmse_pr[i] for i in range(6)],\n",
    "                       'GridMet Tmin RMSE':[rmse_gm[i] for i in range(6)],\n",
    "                       'ERA5 Tmin RMSE':[rmse_era[i] for i in range(6)]})\n",
    "df_rmse"
   ]
  },
  {
   "cell_type": "code",
   "execution_count": null,
   "metadata": {},
   "outputs": [],
   "source": [
    "# [el_loc,gl_loc,ele_loc,sh_loc,gr_loc,tvc_loc]\n",
    "pr = []\n",
    "fna = ['East_Lansing_PRISM_tmax_stable_4km_20010101_20180101_42.6700_-84.4900.csv',\\\n",
    "      'Gaylord_PRISM_tmax_stable_4km_20010101_20180101_44.9100_-84.7200.csv',\\\n",
    "      'East_Leland_PRISM_tmax_stable_4km_20010101_20180101_45.0300_-85.6700.csv',\\\n",
    "      'South_Haven_PRISM_tmax_stable_4km_20010101_20180101_42.3600_-86.2900.csv',\\\n",
    "      'Grand_Rapids_PRISM_tmax_stable_4km_20010101_20180101_42.8810_-85.5230.csv',\\\n",
    "       'Traverse_City_PRISM_tmax_stable_4km_20010101_20180101_44.7420_-85.5820.csv']\n",
    "for i in range(6):\n",
    "    df = pd.read_csv('./prism/{0}'.format(fna[i]),header=[i for i in range(11)])\n",
    "    df = np.array(df)[:,0]\n",
    "    pr.append(df)\n",
    "pr = np.array(pr)"
   ]
  },
  {
   "cell_type": "code",
   "execution_count": null,
   "metadata": {},
   "outputs": [],
   "source": [
    "el_loc = [42.67,-84.49]\n",
    "gl_loc = [44.91,-84.72]\n",
    "ele_loc = [45.03, -85.67]\n",
    "sh_loc = [42.36, -86.29]\n",
    "gr_loc = [42.881,-85.523]\n",
    "tvc_loc = [44.742, -85.582]\n",
    "loc = np.array([el_loc,gl_loc,ele_loc,sh_loc,gr_loc,tvc_loc])\n",
    "loc_id = loc * 0\n",
    "\n",
    "ds = xr.open_dataset('./gridmet/tmmn_2001.nc')\n",
    "for i in range(6):\n",
    "    loc_id[i, 0] = np.where(abs(ds.lat.values - loc[i,0]) == np.amin(abs(ds.lat.values - loc[i,0])))[0][0]\n",
    "    loc_id[i, 1] = np.where(abs(ds.lon.values - loc[i,1]) == np.amin(abs(ds.lon.values - loc[i,1])))[0][0]\n",
    "ds.close()"
   ]
  },
  {
   "cell_type": "code",
   "execution_count": null,
   "metadata": {},
   "outputs": [],
   "source": [
    "gm = []\n",
    "for k in range(6):\n",
    "    data = np.array([])\n",
    "    for i in range(18):\n",
    "        ds = xr.open_dataset('./gridmet/tmmx_{0}.nc'.format(int(2001+i)))\n",
    "        data = np.concatenate((data,ds.air_temperature[:,int(loc_id[k,0]),int(loc_id[k,1])].data),axis=0)\n",
    "        ds.close()\n",
    "    gm.append(data)\n",
    "gm = np.array(gm)\n",
    "gm = (gm - 273.15) * (9/5) + 32.0"
   ]
  },
  {
   "cell_type": "code",
   "execution_count": null,
   "metadata": {},
   "outputs": [],
   "source": [
    "# [el_loc,gl_loc,ele_loc,sh_loc,gr_loc,tvc_loc]\n",
    "pr_dt = [1*pr[0],1*pr[1][-4122:],1*pr[2][-5723:],1*pr[3][-4653:],1*pr[4][:-1],1*pr[5][:-1]]\n",
    "gm_dt = [1*gm[0],1*gm[1][-4122:],1*gm[2][-5723:],1*gm[3][-4653:],1*gm[4][:-1],1*gm[5][:-1]]"
   ]
  },
  {
   "cell_type": "code",
   "execution_count": null,
   "metadata": {},
   "outputs": [],
   "source": [
    "import pytz\n",
    "eastern = pytz.timezone('US/Eastern')\n",
    "dff = [pd.date_range(start='1/1/2001', end='1/1/2019', freq='D')[1:].tz_localize(pytz.utc).tz_convert(eastern),\\\n",
    "      pd.date_range(start='9/19/2007', end='1/1/2019', freq='D')[1:].tz_localize(pytz.utc).tz_convert(eastern),\\\n",
    "      pd.date_range(start='5/2/2003', end='1/1/2019', freq='D')[1:].tz_localize(pytz.utc).tz_convert(eastern),\\\n",
    "      pd.date_range(start='4/6/2006', end='1/1/2019', freq='D')[1:].tz_localize(pytz.utc).tz_convert(eastern),\\\n",
    "      pd.date_range(start='1/1/2001', end='12/31/2018', freq='D')[1:].tz_localize(pytz.utc).tz_convert(eastern),\\\n",
    "      pd.date_range(start='1/1/2001', end='12/31/2018', freq='D')[1:].tz_localize(pytz.utc).tz_convert(eastern)]\n",
    "locn = ['el','gl','ele','sh','gr','tvc']\n",
    "t_daymax_obs = [t_daymax_obs_el,t_daymax_obs_gl,t_daymax_obs_ele,t_daymax_obs_sh,t_daymax_obs_gr,t_daymax_obs_tvc]\n",
    "t_daymax_diff_pr = []\n",
    "for i in range(6):\n",
    "    year = dff[i].strftime('%Y')\n",
    "    mon = dff[i].strftime('%-m')\n",
    "    day = dff[i].strftime('%-d')\n",
    "    mdiff = pd.DataFrame({'YEAR':year, 'MONTH':mon, 'DAY':day,'t_daymax_diff':np.array(pr_dt[i]-t_daymax_obs[i])})\n",
    "    mdiff = mdiff.astype(float)\n",
    "    t_daymax_diff_pr.append(np.array(mdiff.groupby([mdiff.YEAR,mdiff.MONTH])['t_daymax_diff'].mean()))"
   ]
  },
  {
   "cell_type": "code",
   "execution_count": null,
   "metadata": {},
   "outputs": [],
   "source": [
    "import pytz\n",
    "eastern = pytz.timezone('US/Eastern')\n",
    "dff = [pd.date_range(start='1/1/2001', end='1/1/2019', freq='D')[1:].tz_localize(pytz.utc).tz_convert(eastern),\\\n",
    "      pd.date_range(start='9/19/2007', end='1/1/2019', freq='D')[1:].tz_localize(pytz.utc).tz_convert(eastern),\\\n",
    "      pd.date_range(start='5/2/2003', end='1/1/2019', freq='D')[1:].tz_localize(pytz.utc).tz_convert(eastern),\\\n",
    "      pd.date_range(start='4/6/2006', end='1/1/2019', freq='D')[1:].tz_localize(pytz.utc).tz_convert(eastern),\\\n",
    "      pd.date_range(start='1/1/2001', end='12/31/2018', freq='D')[1:].tz_localize(pytz.utc).tz_convert(eastern),\\\n",
    "      pd.date_range(start='1/1/2001', end='12/31/2018', freq='D')[1:].tz_localize(pytz.utc).tz_convert(eastern)]\n",
    "locn = ['el','gl','ele','sh','gr','tvc']\n",
    "t_daymax_obs = [t_daymax_obs_el,t_daymax_obs_gl,t_daymax_obs_ele,t_daymax_obs_sh,t_daymax_obs_gr,t_daymax_obs_tvc]\n",
    "t_daymax_diff_gm = []\n",
    "for i in range(6):\n",
    "    year = dff[i].strftime('%Y')\n",
    "    mon = dff[i].strftime('%-m')\n",
    "    day = dff[i].strftime('%-d')\n",
    "    mdiff = pd.DataFrame({'YEAR':year, 'MONTH':mon, 'DAY':day,'t_daymax_diff':np.array(gm_dt[i]-t_daymax_obs[i])})\n",
    "    mdiff = mdiff.astype(float)\n",
    "    t_daymax_diff_gm.append(np.array(mdiff.groupby([mdiff.YEAR,mdiff.MONTH])['t_daymax_diff'].mean()))"
   ]
  },
  {
   "cell_type": "code",
   "execution_count": null,
   "metadata": {},
   "outputs": [],
   "source": [
    "plt.figure(figsize=(15,6))\n",
    "# [el_loc,gl_loc,ele_loc,sh_loc,gr_loc,tvc_loc]\n",
    "plt.plot(list(range(1,217)), t_daymax_diff_pr[0], 'r-o', lw=1.5, ms=4)\n",
    "plt.plot(list(range(81,217)), t_daymax_diff_pr[1], 'y-o', lw=1.5, ms=4)\n",
    "plt.plot(list(range(30,218)), t_daymax_diff_pr[2], 'b-o', lw=1.5, ms=4)\n",
    "plt.plot(list(range(65,218)), t_daymax_diff_pr[3], 'g-o', lw=1.5, ms=4)\n",
    "plt.plot(list(range(1,217)), t_daymax_diff_pr[4], 'c-o', lw=1.5, ms=4)\n",
    "plt.plot(list(range(1,217)), t_daymax_diff_pr[5], 'm-o', lw=1.5, ms=4)\n",
    "\n",
    "plt.hlines(0, 1, 217, 'k', lw=1.5)\n",
    "plt.xticks(np.arange(1, 217, step=24),['{0} Jan'.format(2*i+2001) for i in range(9)], fontweight='bold')\n",
    "plt.xlabel('Time', fontweight='bold', fontsize=13)\n",
    "plt.ylabel('Temperature (F) ', fontweight='bold', fontsize=13)\n",
    "plt.legend(['East Lansing', 'Gaylord','East Leland', 'South Haven', 'Grand Rapids', 'Traverse City'],fontsize = 13)\n",
    "plt.title('PRISM-OBS: Daily maximum temperature monthly mean (F)', fontweight='bold', fontsize=15)\n",
    "plt.savefig('./plot/Summary/prism_tmax_diff.png')"
   ]
  },
  {
   "cell_type": "code",
   "execution_count": null,
   "metadata": {},
   "outputs": [],
   "source": [
    "plt.figure(figsize=(15,6))\n",
    "# [el_loc,gl_loc,ele_loc,sh_loc,gr_loc,tvc_loc]\n",
    "plt.plot(list(range(1,217)), t_daymax_diff_gm[0], 'r-o', lw=1.5, ms=4)\n",
    "plt.plot(list(range(81,217)), t_daymax_diff_gm[1], 'y-o', lw=1.5, ms=4)\n",
    "plt.plot(list(range(30,218)), t_daymax_diff_gm[2], 'b-o', lw=1.5, ms=4)\n",
    "plt.plot(list(range(65,218)), t_daymax_diff_gm[3], 'g-o', lw=1.5, ms=4)\n",
    "plt.plot(list(range(1,217)), t_daymax_diff_gm[4], 'c-o', lw=1.5, ms=4)\n",
    "plt.plot(list(range(1,217)), t_daymax_diff_gm[5], 'm-o', lw=1.5, ms=4)\n",
    "\n",
    "plt.hlines(0, 1, 217, 'k', lw=1.5)\n",
    "plt.xticks(np.arange(1, 217, step=24),['{0} Jan'.format(2*i+2001) for i in range(9)], fontweight='bold')\n",
    "plt.xlabel('Time', fontweight='bold', fontsize=13)\n",
    "plt.ylabel('Temperature (F) ', fontweight='bold', fontsize=13)\n",
    "plt.legend(['East Lansing', 'Gaylord','East Leland', 'South Haven', 'Grand Rapids', 'Traverse City'],fontsize = 13)\n",
    "plt.title('GridMet-OBS: Daily maximum temperature monthly mean (F)', fontweight='bold', fontsize=15)\n",
    "plt.savefig('./plot/Summary/GridMet_tmax_diff.png')"
   ]
  },
  {
   "cell_type": "code",
   "execution_count": null,
   "metadata": {},
   "outputs": [],
   "source": [
    "rmse_pr = []\n",
    "rmse_gm = []\n",
    "rmse_era = []\n",
    "for i in range(6):\n",
    "    rmse_pr.append(rmse(np.array(t_daymax_obs[i]),pr_dt[i]))\n",
    "    rmse_gm.append(rmse(np.array(t_daymax_obs[i]),gm_dt[i]))\n",
    "    rmse_era.append(rmse(np.array(t_daymax_obs[i]),np.array(t_daymax_era[i])))\n",
    "    "
   ]
  },
  {
   "cell_type": "code",
   "execution_count": null,
   "metadata": {},
   "outputs": [],
   "source": [
    "rmse = pd.read_csv('./summary/rmse_tmin_tmax.csv')\n",
    "rmse"
   ]
  }
 ],
 "metadata": {
  "kernelspec": {
   "display_name": "Python 3",
   "language": "python",
   "name": "python3"
  },
  "language_info": {
   "codemirror_mode": {
    "name": "ipython",
    "version": 3
   },
   "file_extension": ".py",
   "mimetype": "text/x-python",
   "name": "python",
   "nbconvert_exporter": "python",
   "pygments_lexer": "ipython3",
   "version": "3.6.9"
  }
 },
 "nbformat": 4,
 "nbformat_minor": 2
}
